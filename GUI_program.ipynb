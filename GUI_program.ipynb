{
 "cells": [
  {
   "cell_type": "markdown",
   "id": "c4739144",
   "metadata": {},
   "source": [
    "## PyQt5"
   ]
  },
  {
   "cell_type": "code",
   "execution_count": 1,
   "id": "8573de25",
   "metadata": {},
   "outputs": [
    {
     "name": "stdout",
     "output_type": "stream",
     "text": [
      "Collecting pyqt5\n",
      "  Downloading PyQt5-5.15.7-cp37-abi3-macosx_10_13_x86_64.whl (7.0 MB)\n",
      "\u001b[2K     \u001b[38;2;114;156;31m━━━━━━━━━━━━━━━━━━━━━━━━━━━━━━━━━━━━━━━━\u001b[0m \u001b[32m7.0/7.0 MB\u001b[0m \u001b[31m21.4 MB/s\u001b[0m eta \u001b[36m0:00:00\u001b[0mm eta \u001b[36m0:00:01\u001b[0m[36m0:00:01\u001b[0m\n",
      "\u001b[?25hCollecting PyQt5-sip<13,>=12.11\n",
      "  Downloading PyQt5_sip-12.11.0-cp39-cp39-macosx_10_9_universal2.whl (142 kB)\n",
      "\u001b[2K     \u001b[38;2;114;156;31m━━━━━━━━━━━━━━━━━━━━━━━━━━━━━━━━━━━━━━━\u001b[0m \u001b[32m142.5/142.5 kB\u001b[0m \u001b[31m4.8 MB/s\u001b[0m eta \u001b[36m0:00:00\u001b[0m\n",
      "\u001b[?25hCollecting PyQt5-Qt5>=5.15.0\n",
      "  Downloading PyQt5_Qt5-5.15.2-py3-none-macosx_10_13_intel.whl (40.5 MB)\n",
      "\u001b[2K     \u001b[38;2;114;156;31m━━━━━━━━━━━━━━━━━━━━━━━━━━━━━━━━━━━━━━━━\u001b[0m \u001b[32m40.5/40.5 MB\u001b[0m \u001b[31m29.2 MB/s\u001b[0m eta \u001b[36m0:00:00\u001b[0mm eta \u001b[36m0:00:01\u001b[0m[36m0:00:01\u001b[0m\n",
      "\u001b[?25hInstalling collected packages: PyQt5-Qt5, PyQt5-sip, pyqt5\n",
      "Successfully installed PyQt5-Qt5-5.15.2 PyQt5-sip-12.11.0 pyqt5-5.15.7\n",
      "Note: you may need to restart the kernel to use updated packages.\n"
     ]
    }
   ],
   "source": [
    "pip install pyqt5"
   ]
  },
  {
   "cell_type": "code",
   "execution_count": 1,
   "id": "36a5cd7d",
   "metadata": {},
   "outputs": [
    {
     "ename": "SystemExit",
     "evalue": "0",
     "output_type": "error",
     "traceback": [
      "An exception has occurred, use %tb to see the full traceback.\n",
      "\u001b[0;31mSystemExit\u001b[0m\u001b[0;31m:\u001b[0m 0\n"
     ]
    },
    {
     "name": "stderr",
     "output_type": "stream",
     "text": [
      "/Library/Frameworks/Python.framework/Versions/3.9/lib/python3.9/site-packages/IPython/core/interactiveshell.py:3377: UserWarning: To exit: use 'exit', 'quit', or Ctrl-D.\n",
      "  warn(\"To exit: use 'exit', 'quit', or Ctrl-D.\", stacklevel=1)\n"
     ]
    }
   ],
   "source": []
  },
  {
   "cell_type": "code",
   "execution_count": 1,
   "id": "3a77aa5b",
   "metadata": {},
   "outputs": [
    {
     "data": {
      "text/plain": [
       "0"
      ]
     },
     "execution_count": 1,
     "metadata": {},
     "output_type": "execute_result"
    }
   ],
   "source": [
    "import sys\n",
    "from PyQt5.QtWidgets import *\n",
    "\n",
    "app = QApplication(sys.argv)\n",
    "label = QLabel(\"Hello PyQt\")\n",
    "label.show()\n",
    "app.exec_()"
   ]
  },
  {
   "cell_type": "code",
   "execution_count": 1,
   "id": "7590eddd",
   "metadata": {},
   "outputs": [
    {
     "name": "stdout",
     "output_type": "stream",
     "text": [
      "btn clicked\n",
      "btn clicked\n",
      "btn clicked\n",
      "btn clicked\n",
      "btn clicked\n",
      "btn clicked\n"
     ]
    },
    {
     "data": {
      "text/plain": [
       "0"
      ]
     },
     "execution_count": 1,
     "metadata": {},
     "output_type": "execute_result"
    }
   ],
   "source": [
    "import sys\n",
    "from PyQt5.QtWidgets import *\n",
    "\n",
    "def click_btn():\n",
    "    print(\"btn clicked\")\n",
    "\n",
    "app = QApplication(sys.argv)\n",
    "\n",
    "btn = QPushButton(\"Push\")\n",
    "btn.clicked.connect(click_btn)\n",
    "btn.show()\n",
    "\n",
    "app.exec_()"
   ]
  },
  {
   "cell_type": "code",
   "execution_count": null,
   "id": "01610311",
   "metadata": {},
   "outputs": [
    {
     "name": "stderr",
     "output_type": "stream",
     "text": [
      "/var/folders/sb/yyvqcbn90d979xflbm03f1480000gn/T/ipykernel_94781/4071926568.py:22: DeprecationWarning: executable_path has been deprecated, please pass in a Service object\n",
      "  browser = webdriver.Chrome(executable_path=path, chrome_options=options)\n",
      "/var/folders/sb/yyvqcbn90d979xflbm03f1480000gn/T/ipykernel_94781/4071926568.py:22: DeprecationWarning: use options instead of chrome_options\n",
      "  browser = webdriver.Chrome(executable_path=path, chrome_options=options)\n"
     ]
    },
    {
     "name": "stdout",
     "output_type": "stream",
     "text": [
      "크롤링하고자 하는 단어를 입력하세요.자동화\n",
      "크롤링하고자 하는 페이지수를 입력하세요.1\n"
     ]
    }
   ],
   "source": [
    "import sys\n",
    "from PyQt5.QtWidgets import *\n",
    "from PyQt5.QtCore import *\n",
    "from PyQt5.QtGui import *\n",
    "import time\n",
    "from selenium import webdriver\n",
    "from selenium.webdriver.common.by import By\n",
    "from selenium.webdriver.chrome.options import Options\n",
    "\n",
    "class GUIProgram(QMainWindow, QWidget):\n",
    "    def __init__(self):\n",
    "        super().__init__()\n",
    "        self.makeUI()\n",
    "\n",
    "    def click_btn(self):\n",
    "    \n",
    "        path = \"/Users/inseop/Desktop/python/python-miyoung/2일차_크롤링/chromedriver\"\n",
    "        \n",
    "        options = Options()\n",
    "        options.add_argument('headless') #headless모드 브라우저가 뜨지 않고 실행됩니다.\n",
    "\n",
    "        browser = webdriver.Chrome(executable_path=path, chrome_options=options)\n",
    "        \n",
    "#         browser = webdriver.Chrome(path) # \"./chromedriver.exe\"\n",
    "\n",
    "        search_word = input(\"크롤링하고자 하는 단어를 입력하세요.\")\n",
    "        page = int(input(\"크롤링하고자 하는 페이지수를 입력하세요.\"))\n",
    "        \n",
    "        self.text_box.append(\"구글의 뉴스 크롤링을 시작합니다.\")\n",
    "        url = 'https://www.google.com/search?q={}&tbs=qdr:w&tbm=nws&ei=QahYY_HaBpaghwPvkpTgAg&start={}&sa=N&ved=2ahUKEwix_-3q-Pz6AhUW0GEKHW8JBSwQ8tMDegQIARAE&biw=1242&bih=651&dpr=1'\n",
    "\n",
    "        for i in range(0, page*10, 10):\n",
    "            final_url = url.format(search_word, i)\n",
    "\n",
    "            browser.get(final_url)\n",
    "            time.sleep(3)\n",
    "            browser.implicitly_wait(10) # 10초를 기다려봐. 안되면 오류를 뱉어내고, 만약에 그전에 로딩이되면 진행해도되.\n",
    "\n",
    "            titles = browser.find_elements(By.CLASS_NAME, 'mCBkyc')\n",
    "\n",
    "            for title in titles:\n",
    "                self.text_box.append(title.text)\n",
    "                time.sleep(1)\n",
    "                \n",
    "        \n",
    "    def makeUI(self):\n",
    "        # 이미지 띄우기\n",
    "        image = QLabel(self)\n",
    "        image.resize(500, 500)\n",
    "        pixmap = QPixmap(\"./logo.png\")\n",
    "        image.setPixmap(QPixmap(pixmap))\n",
    "\n",
    "        # 계좌번호 버튼 생성\n",
    "        account_btn = QPushButton(\"뉴스 크롤링\", self)\n",
    "        account_btn.move(520, 20)\n",
    "        account_btn.clicked.connect(self.click_btn)\n",
    "\n",
    "        # 예수금 버튼 생성\n",
    "        deposit_btn = QPushButton(\"예수금\", self)\n",
    "        deposit_btn.move(620, 20)\n",
    "        # deposit_btn.clicked.connect()\n",
    "\n",
    "        # 계좌현황 버튼 생성 - 계좌에 있는 종목 정보 가져오기\n",
    "        acccount_detail_btn = QPushButton(\"계좌현황\", self)\n",
    "        acccount_detail_btn.move(720, 20)\n",
    "\n",
    "        # 종목코드\n",
    "        stock_code_label = QLabel(\"종목코드\", self)\n",
    "        stock_code_label.move(520,60)\n",
    "\n",
    "        stock_code_edit = QTextEdit(\"\", self)\n",
    "        stock_code_edit.move(580, 60)\n",
    "\n",
    "        # 주식수\n",
    "        stock_number_label = QLabel(\"주식수\", self)\n",
    "        stock_number_label.move(520,100)\n",
    "\n",
    "        stock_number_edit = QTextEdit(\"\", self)\n",
    "        stock_number_edit.move(580, 100)        \n",
    "\n",
    "        # 매수가격\n",
    "        stock_buy_label = QLabel(\"매수 가격\", self)\n",
    "        stock_buy_label.move(520,140)\n",
    "\n",
    "        stock_buy_edit = QTextEdit(\"\", self)\n",
    "        stock_buy_edit.move(580,140)    \n",
    "\n",
    "        stock_buy_btn = QPushButton(\"매수\", self)\n",
    "        stock_buy_btn.move(720,140)          \n",
    "\n",
    "        # 매도가격\n",
    "        stock_sell_label = QLabel(\"매도 가격\", self)\n",
    "        stock_sell_label.move(520,180)\n",
    "\n",
    "        stock_sell_edit = QTextEdit(\"\", self)\n",
    "        stock_sell_edit.move(580, 180)       \n",
    "\n",
    "        stock_sell_btn = QPushButton(\"매도\", self)\n",
    "        stock_sell_btn.move(720,180)          \n",
    "\n",
    "        # 자동매매\n",
    "        start_auto_btn = QPushButton(\"자동매매시작\", self)\n",
    "        start_auto_btn.move(520, 220)\n",
    "\n",
    "        stop_auto_btn = QPushButton(\"자동매매중지\", self)\n",
    "        stop_auto_btn.move(620, 220)\n",
    "\n",
    "        # 상태창 만들기\n",
    "        self.text_box = QTextEdit(self)\n",
    "        self.text_box.setGeometry(520, 260, 280, 180)\n",
    "\n",
    "        self.text_box.append(\"first line\")\n",
    "        self.text_box.append(\"second line\")\n",
    "\n",
    "        # 종료버튼 생성\n",
    "        quit_btn = QPushButton('종료', self)\n",
    "        quit_btn.move(600, 450)\n",
    "        quit_btn.clicked.connect(QCoreApplication.instance().quit)\n",
    "\n",
    "        # 상태바 만들기\n",
    "        self.statusBar().showMessage(\"Ready\")\n",
    "\n",
    "        # 화면 생성\n",
    "        self.setWindowTitle('kiwoom auto bot') # 창의 제목\n",
    "        self.setWindowIcon(QIcon('./logo.png'))\n",
    "        self.move(500, 500) # 창의 위치\n",
    "        self.resize(830, 500) # 창의 크기 (가로, 세로)\n",
    "        self.show()\n",
    "\n",
    "if __name__=='__main__':\n",
    "    app = QApplication(sys.argv)\n",
    "    ex = GUIProgram()\n",
    "    sys.exit(app.exec_())"
   ]
  },
  {
   "cell_type": "code",
   "execution_count": null,
   "id": "a5b0621a",
   "metadata": {},
   "outputs": [],
   "source": []
  }
 ],
 "metadata": {
  "kernelspec": {
   "display_name": "Python 3 (ipykernel)",
   "language": "python",
   "name": "python3"
  },
  "language_info": {
   "codemirror_mode": {
    "name": "ipython",
    "version": 3
   },
   "file_extension": ".py",
   "mimetype": "text/x-python",
   "name": "python",
   "nbconvert_exporter": "python",
   "pygments_lexer": "ipython3",
   "version": "3.9.5"
  }
 },
 "nbformat": 4,
 "nbformat_minor": 5
}

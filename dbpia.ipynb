{
 "cells": [
  {
   "cell_type": "code",
   "execution_count": 1,
   "metadata": {},
   "outputs": [
    {
     "name": "stdout",
     "output_type": "stream",
     "text": [
      "Requirement already satisfied: selenium in /Users/inseop/opt/anaconda3/lib/python3.9/site-packages (4.7.2)\n",
      "Requirement already satisfied: trio~=0.17 in /Users/inseop/opt/anaconda3/lib/python3.9/site-packages (from selenium) (0.22.0)\n",
      "Requirement already satisfied: trio-websocket~=0.9 in /Users/inseop/opt/anaconda3/lib/python3.9/site-packages (from selenium) (0.9.2)\n",
      "Requirement already satisfied: urllib3[socks]~=1.26 in /Users/inseop/opt/anaconda3/lib/python3.9/site-packages (from selenium) (1.26.11)\n",
      "Requirement already satisfied: certifi>=2021.10.8 in /Users/inseop/opt/anaconda3/lib/python3.9/site-packages (from selenium) (2022.9.24)\n",
      "Requirement already satisfied: attrs>=19.2.0 in /Users/inseop/opt/anaconda3/lib/python3.9/site-packages (from trio~=0.17->selenium) (21.4.0)\n",
      "Requirement already satisfied: idna in /Users/inseop/opt/anaconda3/lib/python3.9/site-packages (from trio~=0.17->selenium) (3.3)\n",
      "Requirement already satisfied: sortedcontainers in /Users/inseop/opt/anaconda3/lib/python3.9/site-packages (from trio~=0.17->selenium) (2.4.0)\n",
      "Requirement already satisfied: exceptiongroup>=1.0.0rc9 in /Users/inseop/opt/anaconda3/lib/python3.9/site-packages (from trio~=0.17->selenium) (1.1.0)\n",
      "Requirement already satisfied: sniffio in /Users/inseop/opt/anaconda3/lib/python3.9/site-packages (from trio~=0.17->selenium) (1.2.0)\n",
      "Requirement already satisfied: async-generator>=1.9 in /Users/inseop/opt/anaconda3/lib/python3.9/site-packages (from trio~=0.17->selenium) (1.10)\n",
      "Requirement already satisfied: outcome in /Users/inseop/opt/anaconda3/lib/python3.9/site-packages (from trio~=0.17->selenium) (1.2.0)\n",
      "Requirement already satisfied: wsproto>=0.14 in /Users/inseop/opt/anaconda3/lib/python3.9/site-packages (from trio-websocket~=0.9->selenium) (1.2.0)\n",
      "Requirement already satisfied: PySocks!=1.5.7,<2.0,>=1.5.6 in /Users/inseop/opt/anaconda3/lib/python3.9/site-packages (from urllib3[socks]~=1.26->selenium) (1.7.1)\n",
      "Requirement already satisfied: h11<1,>=0.9.0 in /Users/inseop/opt/anaconda3/lib/python3.9/site-packages (from wsproto>=0.14->trio-websocket~=0.9->selenium) (0.14.0)\n",
      "Note: you may need to restart the kernel to use updated packages.\n"
     ]
    }
   ],
   "source": [
    "pip install selenium"
   ]
  },
  {
   "cell_type": "code",
   "execution_count": 2,
   "metadata": {},
   "outputs": [],
   "source": [
    "from selenium import webdriver\n",
    "from selenium.webdriver.common.by import By"
   ]
  },
  {
   "cell_type": "code",
   "execution_count": 3,
   "metadata": {},
   "outputs": [
    {
     "name": "stdout",
     "output_type": "stream",
     "text": [
      "xattr: chromedriver: No such xattr: com.apple.quarantine\r\n"
     ]
    }
   ],
   "source": [
    "! xattr -d com.apple.quarantine chromedriver"
   ]
  },
  {
   "cell_type": "code",
   "execution_count": 6,
   "metadata": {},
   "outputs": [
    {
     "name": "stderr",
     "output_type": "stream",
     "text": [
      "/var/folders/yz/yncj9qh52mq6wk5p86v5p5lm0000gn/T/ipykernel_54515/2690563374.py:3: DeprecationWarning: executable_path has been deprecated, please pass in a Service object\n",
      "  browser = webdriver.Chrome(path)\n"
     ]
    },
    {
     "name": "stdout",
     "output_type": "stream",
     "text": [
      "검색어를 입력하세요.인공지능\n"
     ]
    }
   ],
   "source": [
    "import os\n",
    "path = os.getcwd()+\"/chromedriver\"\n",
    "browser = webdriver.Chrome(path)\n",
    "\n",
    "keyword = input(\"검색어를 입력하세요.\")\n",
    "url = \"https://www.dbpia.co.kr/search/topSearch?searchOption=all&query={}\"\n",
    "new_url = url.format(keyword)\n",
    "browser.get(new_url)"
   ]
  },
  {
   "cell_type": "markdown",
   "metadata": {},
   "source": [
    "## 1페이지 링크를 가져오는 코드"
   ]
  },
  {
   "cell_type": "code",
   "execution_count": 7,
   "metadata": {},
   "outputs": [
    {
     "name": "stdout",
     "output_type": "stream",
     "text": [
      "<selenium.webdriver.remote.webelement.WebElement (session=\"ff6c4a6740eff1a6325dd1eabad29e81\", element=\"9ec68f4a-041b-42d9-b52f-c57aec1b9d8c\")>\n",
      "<selenium.webdriver.remote.webelement.WebElement (session=\"ff6c4a6740eff1a6325dd1eabad29e81\", element=\"e834afe2-f391-436e-9d73-549787583275\")>\n",
      "<selenium.webdriver.remote.webelement.WebElement (session=\"ff6c4a6740eff1a6325dd1eabad29e81\", element=\"c442e2ef-15b5-4367-b722-2c3bb3512e0d\")>\n",
      "<selenium.webdriver.remote.webelement.WebElement (session=\"ff6c4a6740eff1a6325dd1eabad29e81\", element=\"0dd6135d-2f59-4756-a780-689bd9a354d0\")>\n",
      "<selenium.webdriver.remote.webelement.WebElement (session=\"ff6c4a6740eff1a6325dd1eabad29e81\", element=\"8a65a102-e55d-48ce-b808-4822c11f19af\")>\n",
      "<selenium.webdriver.remote.webelement.WebElement (session=\"ff6c4a6740eff1a6325dd1eabad29e81\", element=\"82c99342-317a-44eb-8888-4c5c3d8c48e1\")>\n",
      "<selenium.webdriver.remote.webelement.WebElement (session=\"ff6c4a6740eff1a6325dd1eabad29e81\", element=\"f9a0d80f-eee4-4bbf-8a89-2fbf1847d81d\")>\n",
      "<selenium.webdriver.remote.webelement.WebElement (session=\"ff6c4a6740eff1a6325dd1eabad29e81\", element=\"a5181856-0767-4f59-8317-b199a178034b\")>\n",
      "<selenium.webdriver.remote.webelement.WebElement (session=\"ff6c4a6740eff1a6325dd1eabad29e81\", element=\"404f92ee-2e6a-422b-9b19-040967a9338a\")>\n",
      "<selenium.webdriver.remote.webelement.WebElement (session=\"ff6c4a6740eff1a6325dd1eabad29e81\", element=\"11013b70-8d72-46ec-ae38-ac6001db1f43\")>\n",
      "<selenium.webdriver.remote.webelement.WebElement (session=\"ff6c4a6740eff1a6325dd1eabad29e81\", element=\"5a1da8dc-7c89-4975-92fc-cb38f35e83ce\")>\n",
      "<selenium.webdriver.remote.webelement.WebElement (session=\"ff6c4a6740eff1a6325dd1eabad29e81\", element=\"d8eac1b2-0d3f-4bf2-8bfe-eef39ae26dbc\")>\n",
      "<selenium.webdriver.remote.webelement.WebElement (session=\"ff6c4a6740eff1a6325dd1eabad29e81\", element=\"6e41b7a4-1eb0-46c5-80af-8bda6b57071c\")>\n",
      "<selenium.webdriver.remote.webelement.WebElement (session=\"ff6c4a6740eff1a6325dd1eabad29e81\", element=\"8b76e092-7c8a-4144-8bb0-e08495460545\")>\n",
      "<selenium.webdriver.remote.webelement.WebElement (session=\"ff6c4a6740eff1a6325dd1eabad29e81\", element=\"ede6cc11-f788-4ec4-8c74-d484d4e4bfc2\")>\n",
      "<selenium.webdriver.remote.webelement.WebElement (session=\"ff6c4a6740eff1a6325dd1eabad29e81\", element=\"3e1cbd86-1a47-4af2-8d08-c39532de8932\")>\n",
      "<selenium.webdriver.remote.webelement.WebElement (session=\"ff6c4a6740eff1a6325dd1eabad29e81\", element=\"3c1cf6b6-8e58-460e-b482-ebd7dae3df60\")>\n",
      "<selenium.webdriver.remote.webelement.WebElement (session=\"ff6c4a6740eff1a6325dd1eabad29e81\", element=\"b4ec68c7-2899-4d52-9be4-07b74e3c3b9e\")>\n",
      "<selenium.webdriver.remote.webelement.WebElement (session=\"ff6c4a6740eff1a6325dd1eabad29e81\", element=\"dc1f9d2b-6314-4d94-bfba-75f7500f6d75\")>\n",
      "<selenium.webdriver.remote.webelement.WebElement (session=\"ff6c4a6740eff1a6325dd1eabad29e81\", element=\"93e24a08-6e0a-4bd1-bc4c-2b90c2be9567\")>\n",
      "<selenium.webdriver.remote.webelement.WebElement (session=\"ff6c4a6740eff1a6325dd1eabad29e81\", element=\"d1f609cf-4b7f-40ea-9c8c-f5c605d8f6ce\")>\n",
      "<selenium.webdriver.remote.webelement.WebElement (session=\"ff6c4a6740eff1a6325dd1eabad29e81\", element=\"a6258168-7d5f-486b-83be-574927bfbb46\")>\n",
      "<selenium.webdriver.remote.webelement.WebElement (session=\"ff6c4a6740eff1a6325dd1eabad29e81\", element=\"1f1aae5b-a36e-4cce-ae7e-2a3a14fb760b\")>\n",
      "<selenium.webdriver.remote.webelement.WebElement (session=\"ff6c4a6740eff1a6325dd1eabad29e81\", element=\"b35a0005-e10f-43ea-9f22-bbad1a76073d\")>\n",
      "<selenium.webdriver.remote.webelement.WebElement (session=\"ff6c4a6740eff1a6325dd1eabad29e81\", element=\"b45068d5-87c0-494e-be12-bdac0bae296d\")>\n",
      "<selenium.webdriver.remote.webelement.WebElement (session=\"ff6c4a6740eff1a6325dd1eabad29e81\", element=\"db124303-413a-4004-951f-ec0ad4512df2\")>\n",
      "<selenium.webdriver.remote.webelement.WebElement (session=\"ff6c4a6740eff1a6325dd1eabad29e81\", element=\"fcb6d8a0-71b5-4471-a589-c9fb69556f87\")>\n",
      "<selenium.webdriver.remote.webelement.WebElement (session=\"ff6c4a6740eff1a6325dd1eabad29e81\", element=\"2c9ab6df-facd-4187-b750-4ab7c1d70d00\")>\n",
      "<selenium.webdriver.remote.webelement.WebElement (session=\"ff6c4a6740eff1a6325dd1eabad29e81\", element=\"aa48699d-d796-4f1f-a9a7-fff41fba74b5\")>\n",
      "<selenium.webdriver.remote.webelement.WebElement (session=\"ff6c4a6740eff1a6325dd1eabad29e81\", element=\"0e63eac4-a72f-45b0-8918-0c7d3e524c55\")>\n",
      "<selenium.webdriver.remote.webelement.WebElement (session=\"ff6c4a6740eff1a6325dd1eabad29e81\", element=\"be79d3a9-75c3-480a-b3b3-7d81284cd9eb\")>\n",
      "<selenium.webdriver.remote.webelement.WebElement (session=\"ff6c4a6740eff1a6325dd1eabad29e81\", element=\"b5ac3e7c-67e4-4c86-ac7b-9c3938885572\")>\n",
      "<selenium.webdriver.remote.webelement.WebElement (session=\"ff6c4a6740eff1a6325dd1eabad29e81\", element=\"40cf0316-c068-4391-abb8-0c139f91d85c\")>\n",
      "<selenium.webdriver.remote.webelement.WebElement (session=\"ff6c4a6740eff1a6325dd1eabad29e81\", element=\"158c01ae-39ef-4bdd-8109-86b758b49cb8\")>\n",
      "<selenium.webdriver.remote.webelement.WebElement (session=\"ff6c4a6740eff1a6325dd1eabad29e81\", element=\"d1b1acbc-83cb-45fe-a6f2-3a76f3f4ca32\")>\n",
      "<selenium.webdriver.remote.webelement.WebElement (session=\"ff6c4a6740eff1a6325dd1eabad29e81\", element=\"8a70f16b-e73e-4398-8cf1-07e0d0828d7a\")>\n",
      "<selenium.webdriver.remote.webelement.WebElement (session=\"ff6c4a6740eff1a6325dd1eabad29e81\", element=\"f1dabec6-eee2-46b2-9836-2f0ef5927305\")>\n",
      "<selenium.webdriver.remote.webelement.WebElement (session=\"ff6c4a6740eff1a6325dd1eabad29e81\", element=\"b108bdcb-15c1-46b2-a405-dc986ac7913e\")>\n",
      "<selenium.webdriver.remote.webelement.WebElement (session=\"ff6c4a6740eff1a6325dd1eabad29e81\", element=\"907dd569-1c2b-46f0-9a86-784935f90b79\")>\n",
      "<selenium.webdriver.remote.webelement.WebElement (session=\"ff6c4a6740eff1a6325dd1eabad29e81\", element=\"3539b455-0247-4165-93eb-b6adc2b66756\")>\n"
     ]
    }
   ],
   "source": [
    "# 링크만 가져오기\n",
    "links = browser.find_elements(By.CLASS_NAME, 'thesis__link') # list로 데이터가 변경된다\n",
    "\n",
    "link_list = []\n",
    "for link in links:\n",
    "    link_list.append(link.get_attribute('href')) # link가 담겨서 오겠죠.\n",
    "\n",
    "# link_list에는 1페이지 링크가 담기겠죠.\n",
    "\n",
    "for link in link_list:\n",
    "    browser.get(link)\n",
    "    \n",
    "    content = \"\"\n",
    "    try:\n",
    "        content = browser.find_element(By.CLASS_NAME, \"abstractTxt\")\n",
    "    except:\n",
    "        content = browser.find_element(By.CLASS_NAME, \"noData\")\n",
    "    \n",
    "    print(content.text)"
   ]
  },
  {
   "cell_type": "code",
   "execution_count": 12,
   "metadata": {},
   "outputs": [
    {
     "name": "stdout",
     "output_type": "stream",
     "text": [
      "1\n"
     ]
    }
   ],
   "source": [
    "for i in range(1,2):\n",
    "    print(i)"
   ]
  },
  {
   "cell_type": "markdown",
   "metadata": {},
   "source": [
    "## 내가 입력한 값 만큼 페이지 이동을 하는 프로그램"
   ]
  },
  {
   "cell_type": "code",
   "execution_count": 16,
   "metadata": {},
   "outputs": [
    {
     "name": "stdout",
     "output_type": "stream",
     "text": [
      "크롤링 하고 싶은 페이지 수를 입력하세요.5\n"
     ]
    }
   ],
   "source": [
    "browser.get(\"https://www.dbpia.co.kr/search/topSearch?searchOption=all&query=%EC%9D%B8%EA%B3%B5%EC%A7%80%EB%8A%A5\")\n",
    "page = int(input(\"크롤링 하고 싶은 페이지 수를 입력하세요.\"))\n",
    "\n",
    "import time\n",
    "for i in range(2,page+1):\n",
    "    xpath = '//*[@id=\"pageList\"]/a[{}]'.format(i)\n",
    "    time.sleep(3)\n",
    "    browser.find_element(By.XPATH, xpath).click()"
   ]
  },
  {
   "cell_type": "code",
   "execution_count": 14,
   "metadata": {},
   "outputs": [
    {
     "name": "stdout",
     "output_type": "stream",
     "text": [
      "//*[@id=\"pageList\"]/a[1]\n",
      "//*[@id=\"pageList\"]/a[2]\n",
      "//*[@id=\"pageList\"]/a[3]\n",
      "//*[@id=\"pageList\"]/a[4]\n",
      "//*[@id=\"pageList\"]/a[5]\n",
      "//*[@id=\"pageList\"]/a[6]\n",
      "//*[@id=\"pageList\"]/a[7]\n",
      "//*[@id=\"pageList\"]/a[8]\n",
      "//*[@id=\"pageList\"]/a[9]\n"
     ]
    }
   ],
   "source": [
    "for i in range(1,10):\n",
    "    xpath = '//*[@id=\"pageList\"]/a[{}]'.format(i)\n",
    "    print(xpath)"
   ]
  },
  {
   "cell_type": "code",
   "execution_count": 17,
   "metadata": {},
   "outputs": [
    {
     "data": {
      "text/plain": [
       "'/Users/inseop/Desktop/source/python/python-miyoung'"
      ]
     },
     "execution_count": 17,
     "metadata": {},
     "output_type": "execute_result"
    }
   ],
   "source": [
    "os.getcwd()"
   ]
  },
  {
   "cell_type": "code",
   "execution_count": null,
   "metadata": {},
   "outputs": [],
   "source": []
  }
 ],
 "metadata": {
  "kernelspec": {
   "display_name": "Python 3 (ipykernel)",
   "language": "python",
   "name": "python3"
  },
  "language_info": {
   "codemirror_mode": {
    "name": "ipython",
    "version": 3
   },
   "file_extension": ".py",
   "mimetype": "text/x-python",
   "name": "python",
   "nbconvert_exporter": "python",
   "pygments_lexer": "ipython3",
   "version": "3.9.13"
  }
 },
 "nbformat": 4,
 "nbformat_minor": 2
}

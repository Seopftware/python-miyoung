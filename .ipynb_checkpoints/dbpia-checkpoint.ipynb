{
 "cells": [
  {
   "cell_type": "code",
   "execution_count": 1,
   "metadata": {},
   "outputs": [
    {
     "name": "stdout",
     "output_type": "stream",
     "text": [
      "Requirement already satisfied: selenium in /Users/inseop/opt/anaconda3/lib/python3.9/site-packages (4.7.2)\n",
      "Requirement already satisfied: trio~=0.17 in /Users/inseop/opt/anaconda3/lib/python3.9/site-packages (from selenium) (0.22.0)\n",
      "Requirement already satisfied: trio-websocket~=0.9 in /Users/inseop/opt/anaconda3/lib/python3.9/site-packages (from selenium) (0.9.2)\n",
      "Requirement already satisfied: urllib3[socks]~=1.26 in /Users/inseop/opt/anaconda3/lib/python3.9/site-packages (from selenium) (1.26.11)\n",
      "Requirement already satisfied: certifi>=2021.10.8 in /Users/inseop/opt/anaconda3/lib/python3.9/site-packages (from selenium) (2022.9.24)\n",
      "Requirement already satisfied: attrs>=19.2.0 in /Users/inseop/opt/anaconda3/lib/python3.9/site-packages (from trio~=0.17->selenium) (21.4.0)\n",
      "Requirement already satisfied: idna in /Users/inseop/opt/anaconda3/lib/python3.9/site-packages (from trio~=0.17->selenium) (3.3)\n",
      "Requirement already satisfied: sortedcontainers in /Users/inseop/opt/anaconda3/lib/python3.9/site-packages (from trio~=0.17->selenium) (2.4.0)\n",
      "Requirement already satisfied: exceptiongroup>=1.0.0rc9 in /Users/inseop/opt/anaconda3/lib/python3.9/site-packages (from trio~=0.17->selenium) (1.1.0)\n",
      "Requirement already satisfied: sniffio in /Users/inseop/opt/anaconda3/lib/python3.9/site-packages (from trio~=0.17->selenium) (1.2.0)\n",
      "Requirement already satisfied: async-generator>=1.9 in /Users/inseop/opt/anaconda3/lib/python3.9/site-packages (from trio~=0.17->selenium) (1.10)\n",
      "Requirement already satisfied: outcome in /Users/inseop/opt/anaconda3/lib/python3.9/site-packages (from trio~=0.17->selenium) (1.2.0)\n",
      "Requirement already satisfied: wsproto>=0.14 in /Users/inseop/opt/anaconda3/lib/python3.9/site-packages (from trio-websocket~=0.9->selenium) (1.2.0)\n",
      "Requirement already satisfied: PySocks!=1.5.7,<2.0,>=1.5.6 in /Users/inseop/opt/anaconda3/lib/python3.9/site-packages (from urllib3[socks]~=1.26->selenium) (1.7.1)\n",
      "Requirement already satisfied: h11<1,>=0.9.0 in /Users/inseop/opt/anaconda3/lib/python3.9/site-packages (from wsproto>=0.14->trio-websocket~=0.9->selenium) (0.14.0)\n",
      "Note: you may need to restart the kernel to use updated packages.\n"
     ]
    }
   ],
   "source": [
    "pip install selenium"
   ]
  },
  {
   "cell_type": "code",
   "execution_count": 2,
   "metadata": {},
   "outputs": [],
   "source": [
    "from selenium import webdriver\n",
    "from selenium.webdriver.common.by import By"
   ]
  },
  {
   "cell_type": "code",
   "execution_count": 3,
   "metadata": {},
   "outputs": [
    {
     "name": "stdout",
     "output_type": "stream",
     "text": [
      "xattr: chromedriver: No such xattr: com.apple.quarantine\r\n"
     ]
    }
   ],
   "source": [
    "! xattr -d com.apple.quarantine chromedriver"
   ]
  },
  {
   "cell_type": "code",
   "execution_count": 6,
   "metadata": {},
   "outputs": [
    {
     "name": "stderr",
     "output_type": "stream",
     "text": [
      "/var/folders/yz/yncj9qh52mq6wk5p86v5p5lm0000gn/T/ipykernel_54515/2690563374.py:3: DeprecationWarning: executable_path has been deprecated, please pass in a Service object\n",
      "  browser = webdriver.Chrome(path)\n"
     ]
    },
    {
     "name": "stdout",
     "output_type": "stream",
     "text": [
      "검색어를 입력하세요.인공지능\n"
     ]
    }
   ],
   "source": [
    "import os\n",
    "path = os.getcwd()+\"/chromedriver\"\n",
    "browser = webdriver.Chrome(path)\n",
    "\n",
    "keyword = input(\"검색어를 입력하세요.\")\n",
    "url = \"https://www.dbpia.co.kr/search/topSearch?searchOption=all&query={}\"\n",
    "new_url = url.format(keyword)\n",
    "browser.get(new_url)"
   ]
  },
  {
   "cell_type": "markdown",
   "metadata": {},
   "source": [
    "## 1페이지 링크를 가져오는 코드"
   ]
  },
  {
   "cell_type": "code",
   "execution_count": 12,
   "metadata": {},
   "outputs": [
    {
     "name": "stdout",
     "output_type": "stream",
     "text": [
      "1\n"
     ]
    }
   ],
   "source": [
    "for i in range(1,2):\n",
    "    print(i)"
   ]
  },
  {
   "cell_type": "markdown",
   "metadata": {},
   "source": [
    "## 내가 입력한 값 만큼 페이지 이동을 하는 프로그램"
   ]
  },
  {
   "cell_type": "code",
   "execution_count": 19,
   "metadata": {},
   "outputs": [
    {
     "name": "stdout",
     "output_type": "stream",
     "text": [
      "크롤링 하고 싶은 페이지 수를 입력하세요.3\n",
      "['https://www.dbpia.co.kr/journal/articleDetail?nodeId=NODE11178980', 'https://www.dbpia.co.kr/journal/articleDetail?nodeId=NODE11169187', 'https://www.dbpia.co.kr/journal/articleDetail?nodeId=NODE11168142', 'https://www.dbpia.co.kr/journal/articleDetail?nodeId=NODE11165989', 'https://www.dbpia.co.kr/journal/articleDetail?nodeId=NODE11163771', 'https://www.dbpia.co.kr/journal/articleDetail?nodeId=NODE11139855', 'https://www.dbpia.co.kr/journal/articleDetail?nodeId=NODE11175765', 'https://www.dbpia.co.kr/journal/articleDetail?nodeId=NODE11169216', 'https://www.dbpia.co.kr/journal/articleDetail?nodeId=NODE11171767', 'https://www.dbpia.co.kr/journal/articleDetail?nodeId=NODE11169214', 'https://www.dbpia.co.kr/journal/articleDetail?nodeId=NODE11169215', 'https://www.dbpia.co.kr/journal/articleDetail?nodeId=NODE11169218', 'https://www.dbpia.co.kr/journal/articleDetail?nodeId=NODE11169268', 'https://www.dbpia.co.kr/journal/articleDetail?nodeId=NODE11169217', 'https://www.dbpia.co.kr/journal/articleDetail?nodeId=NODE11167173', 'https://www.dbpia.co.kr/journal/articleDetail?nodeId=NODE11166367', 'https://www.dbpia.co.kr/journal/articleDetail?nodeId=NODE11178077', 'https://www.dbpia.co.kr/journal/articleDetail?nodeId=NODE11163780', 'https://www.dbpia.co.kr/journal/articleDetail?nodeId=NODE11163777', 'https://www.dbpia.co.kr/journal/articleDetail?nodeId=NODE11153443', 'https://www.dbpia.co.kr/journal/articleDetail?nodeId=NODE11178980', 'https://www.dbpia.co.kr/journal/articleDetail?nodeId=NODE11169187', 'https://www.dbpia.co.kr/journal/articleDetail?nodeId=NODE11168142', 'https://www.dbpia.co.kr/journal/articleDetail?nodeId=NODE11165989', 'https://www.dbpia.co.kr/journal/articleDetail?nodeId=NODE11163771', 'https://www.dbpia.co.kr/journal/articleDetail?nodeId=NODE11139855', 'https://www.dbpia.co.kr/journal/articleDetail?nodeId=NODE11175765', 'https://www.dbpia.co.kr/journal/articleDetail?nodeId=NODE11169216', 'https://www.dbpia.co.kr/journal/articleDetail?nodeId=NODE11171767', 'https://www.dbpia.co.kr/journal/articleDetail?nodeId=NODE11169214', 'https://www.dbpia.co.kr/journal/articleDetail?nodeId=NODE11169215', 'https://www.dbpia.co.kr/journal/articleDetail?nodeId=NODE11169218', 'https://www.dbpia.co.kr/journal/articleDetail?nodeId=NODE11169268', 'https://www.dbpia.co.kr/journal/articleDetail?nodeId=NODE11169217', 'https://www.dbpia.co.kr/journal/articleDetail?nodeId=NODE11167173', 'https://www.dbpia.co.kr/journal/articleDetail?nodeId=NODE11166367', 'https://www.dbpia.co.kr/journal/articleDetail?nodeId=NODE11178077', 'https://www.dbpia.co.kr/journal/articleDetail?nodeId=NODE11163780', 'https://www.dbpia.co.kr/journal/articleDetail?nodeId=NODE11163777', 'https://www.dbpia.co.kr/journal/articleDetail?nodeId=NODE11153443']\n"
     ]
    }
   ],
   "source": [
    "browser.get(\"https://www.dbpia.co.kr/search/topSearch?searchOption=all&query=%EC%9D%B8%EA%B3%B5%EC%A7%80%EB%8A%A5\")\n",
    "page = int(input(\"크롤링 하고 싶은 페이지 수를 입력하세요.\"))\n",
    "\n",
    "import time\n",
    "\n",
    "link_list = []\n",
    "for i in range(2,page+1):  \n",
    "    # 링크를 가져오는 코드\n",
    "    links = browser.find_elements(By.CLASS_NAME, 'thesis__link') # list로 데이터가 변경된다\n",
    "    for link in links:\n",
    "        link_list.append(link.get_attribute('href')) # link가 담겨서 오겠죠.\n",
    "    \n",
    "    xpath = '//*[@id=\"pageList\"]/a[{}]'.format(i) # 2페이지로 이동\n",
    "    time.sleep(3)\n",
    "    browser.find_element(By.XPATH, xpath).click()\n",
    "    \n",
    "print(link_list) # 2페이지까지의 링크를 다 담음.\n",
    "\n",
    "\n",
    "for link in link_list:\n",
    "    browser.get(link)\n",
    "\n",
    "    content = \"\"\n",
    "    \n",
    "    try:\n",
    "        content = browser.find_element(By.CLASS_NAME, \"abstractTxt\")\n",
    "    except:\n",
    "        content = browser.find_element(By.CLASS_NAME, \"noData\")\n",
    "\n",
    "    print(content.text)    "
   ]
  },
  {
   "cell_type": "code",
   "execution_count": 14,
   "metadata": {},
   "outputs": [
    {
     "name": "stdout",
     "output_type": "stream",
     "text": [
      "//*[@id=\"pageList\"]/a[1]\n",
      "//*[@id=\"pageList\"]/a[2]\n",
      "//*[@id=\"pageList\"]/a[3]\n",
      "//*[@id=\"pageList\"]/a[4]\n",
      "//*[@id=\"pageList\"]/a[5]\n",
      "//*[@id=\"pageList\"]/a[6]\n",
      "//*[@id=\"pageList\"]/a[7]\n",
      "//*[@id=\"pageList\"]/a[8]\n",
      "//*[@id=\"pageList\"]/a[9]\n"
     ]
    }
   ],
   "source": [
    "for i in range(1,10):\n",
    "    xpath = '//*[@id=\"pageList\"]/a[{}]'.format(i)\n",
    "    print(xpath)"
   ]
  },
  {
   "cell_type": "code",
   "execution_count": 17,
   "metadata": {},
   "outputs": [
    {
     "data": {
      "text/plain": [
       "'/Users/inseop/Desktop/source/python/python-miyoung'"
      ]
     },
     "execution_count": 17,
     "metadata": {},
     "output_type": "execute_result"
    }
   ],
   "source": [
    "os.getcwd()"
   ]
  },
  {
   "cell_type": "code",
   "execution_count": null,
   "metadata": {},
   "outputs": [],
   "source": []
  }
 ],
 "metadata": {
  "kernelspec": {
   "display_name": "Python 3 (ipykernel)",
   "language": "python",
   "name": "python3"
  },
  "language_info": {
   "codemirror_mode": {
    "name": "ipython",
    "version": 3
   },
   "file_extension": ".py",
   "mimetype": "text/x-python",
   "name": "python",
   "nbconvert_exporter": "python",
   "pygments_lexer": "ipython3",
   "version": "3.9.13"
  }
 },
 "nbformat": 4,
 "nbformat_minor": 2
}

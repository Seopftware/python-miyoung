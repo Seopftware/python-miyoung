{
 "cells": [
  {
   "cell_type": "markdown",
   "id": "c4739144",
   "metadata": {},
   "source": [
    "## PyQt5"
   ]
  },
  {
   "cell_type": "code",
   "execution_count": 1,
   "id": "8573de25",
   "metadata": {},
   "outputs": [
    {
     "name": "stdout",
     "output_type": "stream",
     "text": [
      "Collecting pyqt5\n",
      "  Downloading PyQt5-5.15.7-cp37-abi3-macosx_10_13_x86_64.whl (7.0 MB)\n",
      "\u001b[2K     \u001b[38;2;114;156;31m━━━━━━━━━━━━━━━━━━━━━━━━━━━━━━━━━━━━━━━━\u001b[0m \u001b[32m7.0/7.0 MB\u001b[0m \u001b[31m21.4 MB/s\u001b[0m eta \u001b[36m0:00:00\u001b[0mm eta \u001b[36m0:00:01\u001b[0m[36m0:00:01\u001b[0m\n",
      "\u001b[?25hCollecting PyQt5-sip<13,>=12.11\n",
      "  Downloading PyQt5_sip-12.11.0-cp39-cp39-macosx_10_9_universal2.whl (142 kB)\n",
      "\u001b[2K     \u001b[38;2;114;156;31m━━━━━━━━━━━━━━━━━━━━━━━━━━━━━━━━━━━━━━━\u001b[0m \u001b[32m142.5/142.5 kB\u001b[0m \u001b[31m4.8 MB/s\u001b[0m eta \u001b[36m0:00:00\u001b[0m\n",
      "\u001b[?25hCollecting PyQt5-Qt5>=5.15.0\n",
      "  Downloading PyQt5_Qt5-5.15.2-py3-none-macosx_10_13_intel.whl (40.5 MB)\n",
      "\u001b[2K     \u001b[38;2;114;156;31m━━━━━━━━━━━━━━━━━━━━━━━━━━━━━━━━━━━━━━━━\u001b[0m \u001b[32m40.5/40.5 MB\u001b[0m \u001b[31m29.2 MB/s\u001b[0m eta \u001b[36m0:00:00\u001b[0mm eta \u001b[36m0:00:01\u001b[0m[36m0:00:01\u001b[0m\n",
      "\u001b[?25hInstalling collected packages: PyQt5-Qt5, PyQt5-sip, pyqt5\n",
      "Successfully installed PyQt5-Qt5-5.15.2 PyQt5-sip-12.11.0 pyqt5-5.15.7\n",
      "Note: you may need to restart the kernel to use updated packages.\n"
     ]
    }
   ],
   "source": [
    "pip install pyqt5"
   ]
  },
  {
   "cell_type": "code",
   "execution_count": 1,
   "id": "36a5cd7d",
   "metadata": {},
   "outputs": [
    {
     "ename": "SystemExit",
     "evalue": "0",
     "output_type": "error",
     "traceback": [
      "An exception has occurred, use %tb to see the full traceback.\n",
      "\u001b[0;31mSystemExit\u001b[0m\u001b[0;31m:\u001b[0m 0\n"
     ]
    },
    {
     "name": "stderr",
     "output_type": "stream",
     "text": [
      "/Library/Frameworks/Python.framework/Versions/3.9/lib/python3.9/site-packages/IPython/core/interactiveshell.py:3377: UserWarning: To exit: use 'exit', 'quit', or Ctrl-D.\n",
      "  warn(\"To exit: use 'exit', 'quit', or Ctrl-D.\", stacklevel=1)\n"
     ]
    }
   ],
   "source": [
    "import sys\n",
    "from PyQt5.QtWidgets import *\n",
    "from PyQt5.QtCore import *\n",
    "from PyQt5.QtGui import *\n",
    "from PyQt5 import uic\n",
    "\n",
    "class GUIProgram(QMainWindow, QWidget):\n",
    "    \n",
    "    def __init__(self):\n",
    "        super().__init__()\n",
    "        self.makeUI()\n",
    "\n",
    "    def makeUI(self):\n",
    "        # # 상태바\n",
    "        self.statusBar().showMessage('Ready')        \n",
    "        \n",
    "        # 이미지\n",
    "        image = QLabel(self)\n",
    "        image.resize(500,500)   # 이미지를 보여주기 위해 출력될 label의 크기를 600×600으로 설정\n",
    "        pixmap = QPixmap(\"./logo.png\")\n",
    "        image.setPixmap(QPixmap(pixmap))\n",
    "\n",
    "        label1 = QLabel('종목코드', self)\n",
    "        label1.move(700, 20)\n",
    "        label2 = QLabel('주식수', self)\n",
    "        label2.move(720, 60)\n",
    "\n",
    "        btn1 = QPushButton('Button1', self)\n",
    "        btn1.move(780, 13)\n",
    "        btn2 = QPushButton('Button2', self)\n",
    "        btn2.move(780, 53)        \n",
    "\n",
    "        # 종료버튼 생성\n",
    "        quit_btn = QPushButton('Quit', self)\n",
    "        quit_btn.move(700,450)\n",
    "        quit_btn.clicked.connect(QCoreApplication.instance().quit)\n",
    "        \n",
    "        self.setWindowTitle('GUI Program') # 창의 제목\n",
    "        self.setWindowIcon(QIcon('./logo.png'))\n",
    "        self.move(500, 500)  # 창의 위치\n",
    "        self.resize(1000, 500) # 창의 크기\n",
    "        self.show() # 창 띄우기\n",
    "        \n",
    "\n",
    "if __name__ == '__main__':\n",
    "   app = QApplication(sys.argv)\n",
    "   ex = GUIProgram()\n",
    "   sys.exit(app.exec_())"
   ]
  },
  {
   "cell_type": "code",
   "execution_count": null,
   "id": "3a77aa5b",
   "metadata": {},
   "outputs": [],
   "source": []
  }
 ],
 "metadata": {
  "kernelspec": {
   "display_name": "Python 3 (ipykernel)",
   "language": "python",
   "name": "python3"
  },
  "language_info": {
   "codemirror_mode": {
    "name": "ipython",
    "version": 3
   },
   "file_extension": ".py",
   "mimetype": "text/x-python",
   "name": "python",
   "nbconvert_exporter": "python",
   "pygments_lexer": "ipython3",
   "version": "3.9.5"
  }
 },
 "nbformat": 4,
 "nbformat_minor": 5
}

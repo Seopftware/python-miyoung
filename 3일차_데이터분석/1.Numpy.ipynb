{
 "cells": [
  {
   "cell_type": "markdown",
   "id": "6faa991b",
   "metadata": {},
   "source": [
    "## Numpy\n",
    "\n",
    "- 파이썬에서 수학적 계산을 쉽게 할 수 있도록 도와주는 라이브러리입니다."
   ]
  },
  {
   "cell_type": "code",
   "execution_count": 1,
   "id": "8d2e84ea",
   "metadata": {},
   "outputs": [],
   "source": [
    "import numpy as np"
   ]
  },
  {
   "cell_type": "code",
   "execution_count": 9,
   "id": "d07e95bf",
   "metadata": {},
   "outputs": [
    {
     "data": {
      "text/plain": [
       "array(['A', 'B', 'C', 'D', 'E'], dtype='<U1')"
      ]
     },
     "execution_count": 9,
     "metadata": {},
     "output_type": "execute_result"
    }
   ],
   "source": [
    "list = [\"A\", \"B\", \"C\", \"D\", \"E\"]\n",
    "list2 = [1,2,3]\n",
    "array = np.array(list2)\n",
    "array"
   ]
  },
  {
   "cell_type": "code",
   "execution_count": 11,
   "id": "e325ce61",
   "metadata": {},
   "outputs": [
    {
     "name": "stdout",
     "output_type": "stream",
     "text": [
      "(5,)\n",
      "1\n",
      "<U1\n"
     ]
    }
   ],
   "source": [
    "print(array.shape)\n",
    "print(array.ndim)\n",
    "print(array.dtype)"
   ]
  },
  {
   "cell_type": "code",
   "execution_count": 13,
   "id": "c31d0216",
   "metadata": {},
   "outputs": [
    {
     "data": {
      "text/plain": [
       "array([['A', 'B', 'C'],\n",
       "       ['D', 'E', 'F']], dtype='<U1')"
      ]
     },
     "execution_count": 13,
     "metadata": {},
     "output_type": "execute_result"
    }
   ],
   "source": [
    "array2 = np.array([[\"A\", \"B\", \"C\"], [\"D\", \"E\", \"F\"]])\n",
    "array2"
   ]
  },
  {
   "cell_type": "code",
   "execution_count": 14,
   "id": "857edf10",
   "metadata": {},
   "outputs": [
    {
     "name": "stdout",
     "output_type": "stream",
     "text": [
      "(2, 3)\n",
      "2\n",
      "<U1\n"
     ]
    }
   ],
   "source": [
    "print(array2.shape)\n",
    "print(array2.ndim)\n",
    "print(array2.dtype)"
   ]
  },
  {
   "cell_type": "code",
   "execution_count": 30,
   "id": "3a3f1b67",
   "metadata": {},
   "outputs": [
    {
     "data": {
      "text/plain": [
       "array([[['A', 'B', 'C']]], dtype='<U1')"
      ]
     },
     "execution_count": 30,
     "metadata": {},
     "output_type": "execute_result"
    }
   ],
   "source": [
    "array3 = np.array(\n",
    "    [[[\"A\",\"B\",\"C\"]]]\n",
    ")\n",
    "array3"
   ]
  },
  {
   "cell_type": "code",
   "execution_count": 31,
   "id": "180f9baf",
   "metadata": {},
   "outputs": [
    {
     "name": "stdout",
     "output_type": "stream",
     "text": [
      "(1, 1, 3)\n",
      "3\n",
      "<U1\n"
     ]
    }
   ],
   "source": [
    "print(array3.shape) # 차원의 요소 개수\n",
    "print(array3.ndim) # 차원\n",
    "print(array3.dtype) # data type -> 공통적인 데이터 타입"
   ]
  },
  {
   "cell_type": "code",
   "execution_count": 39,
   "id": "3f8c9a87",
   "metadata": {},
   "outputs": [
    {
     "name": "stdout",
     "output_type": "stream",
     "text": [
      "<U1\n",
      "int64\n"
     ]
    }
   ],
   "source": [
    "array4 = np.array([\"1\",\"2\",\"3\",\"4\",\"5\"])\n",
    "print(array4.dtype)\n",
    "\n",
    "array4 = array4.astype(np.int64)\n",
    "print(array4.dtype)"
   ]
  },
  {
   "cell_type": "code",
   "execution_count": 40,
   "id": "be65e6f7",
   "metadata": {},
   "outputs": [
    {
     "data": {
      "text/plain": [
       "array([1, 2, 3, 4, 5, 6, 7, 8, 9])"
      ]
     },
     "execution_count": 40,
     "metadata": {},
     "output_type": "execute_result"
    }
   ],
   "source": [
    "arr = np.arange(1,10)\n",
    "arr"
   ]
  },
  {
   "cell_type": "code",
   "execution_count": 41,
   "id": "bb5e9f27",
   "metadata": {},
   "outputs": [
    {
     "data": {
      "text/plain": [
       "array([1, 2, 3])"
      ]
     },
     "execution_count": 41,
     "metadata": {},
     "output_type": "execute_result"
    }
   ],
   "source": [
    "arr[0:3]"
   ]
  },
  {
   "cell_type": "code",
   "execution_count": 48,
   "id": "67fdff21",
   "metadata": {},
   "outputs": [
    {
     "name": "stdout",
     "output_type": "stream",
     "text": [
      "[False False False False False False  True  True  True]\n",
      "[7 8 9]\n"
     ]
    }
   ],
   "source": [
    "print(arr > 6)\n",
    "print(arr[arr > 6])"
   ]
  },
  {
   "cell_type": "code",
   "execution_count": null,
   "id": "ee093b33",
   "metadata": {},
   "outputs": [],
   "source": [
    "arr1 = np.array([[1,2], [3,4]])\n",
    "arr2 = np.array([[5,6], [7,8]])\n",
    "\n",
    "add = np.add(arr1,arr2)\n",
    "print(add)\n",
    "\n",
    "multiply = np.multiply(arr1,arr2)\n",
    "print(multiply)"
   ]
  }
 ],
 "metadata": {
  "kernelspec": {
   "display_name": "Python 3 (ipykernel)",
   "language": "python",
   "name": "python3"
  },
  "language_info": {
   "codemirror_mode": {
    "name": "ipython",
    "version": 3
   },
   "file_extension": ".py",
   "mimetype": "text/x-python",
   "name": "python",
   "nbconvert_exporter": "python",
   "pygments_lexer": "ipython3",
   "version": "3.9.5"
  }
 },
 "nbformat": 4,
 "nbformat_minor": 5
}

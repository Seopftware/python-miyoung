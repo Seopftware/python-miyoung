{
 "cells": [
  {
   "cell_type": "markdown",
   "id": "f0c25eff",
   "metadata": {},
   "source": [
    "## 구글 뉴스 크롤링 (10페이지까지)\n",
    "\n",
    "- 목적: 구글 뉴스를 10페이지까지 긁어오는 것"
   ]
  },
  {
   "cell_type": "code",
   "execution_count": null,
   "id": "e10f8155",
   "metadata": {},
   "outputs": [],
   "source": [
    "word = \"이름 : {}, 나이: {}\".format(\"leo\", \"30\")\n",
    "word"
   ]
  },
  {
   "cell_type": "code",
   "execution_count": 33,
   "id": "127540b9",
   "metadata": {},
   "outputs": [],
   "source": [
    "from selenium import webdriver\n",
    "from selenium.webdriver.common.by import By"
   ]
  },
  {
   "cell_type": "code",
   "execution_count": 8,
   "id": "fb673da2",
   "metadata": {},
   "outputs": [
    {
     "name": "stderr",
     "output_type": "stream",
     "text": [
      "/var/folders/sb/yyvqcbn90d979xflbm03f1480000gn/T/ipykernel_59244/2207422390.py:3: DeprecationWarning: executable_path has been deprecated, please pass in a Service object\n",
      "  browser = webdriver.Chrome(path) # \"./chromedriver.exe\"\n"
     ]
    }
   ],
   "source": [
    "path = \"/Users/inseop/Desktop/python/python-miyoung/2일차_크롤링/chromedriver\"\n",
    "\n",
    "browser = webdriver.Chrome(path) # \"./chromedriver.exe\""
   ]
  },
  {
   "cell_type": "code",
   "execution_count": 39,
   "id": "6b054c50",
   "metadata": {},
   "outputs": [
    {
     "name": "stdout",
     "output_type": "stream",
     "text": [
      "크롤링하고자 하는 단어를 입력하세요.자동화\n",
      "크롤링하고자 하는 페이지수를 입력하세요.3\n",
      "[비즈&] 롯데홈쇼핑, 물류센터에 업계 최초 자동화 시스템 도입 外\n",
      "'5분이면 청약 끝'…한화생명, 청약자동화 솔루션 특허 취득\n",
      "지멘스, 차세대 IC DFT 자동화 솔루션 '테센트 멀티-다이' 공개\n",
      "창원시, 창원국제용접 및 절단자동화전 성료\n",
      "롯데홈쇼핑, 이천 물류센터 오픈...최첨단 자동화 시스템 갖춰\n",
      "[AI 기반 제조혁신-②] 조선업계, 업황 개선에 인력 부족은 더욱 ...\n",
      "포스코ICT, 업무자동화 솔루션 A.WORKS 3.0 출시\n",
      "[올쇼TV] \"FortiSOAR를 활용한 자동화 위협 대응 사례\" 11월 2일 ...\n",
      "로봇 기반 자동화 시스템으로…롯데홈쇼핑, '스마트 풀필먼트' 구축\n",
      "‘2022 국제 공구 및 스마트 용접 자동화전’ 성료\n",
      "제이엔피글로벌, 도로 시공 무인자동화 기업 충청에 시드투자\n",
      "유아이패스 “자동화 시장, RPA에서 지능형 프로세스 자동화(IPA ...\n",
      "셀텍월드' 축분뇨 자동화처리기'' 폐우유 처리기'\n",
      "창원시 \"국내 최대 용접 및 절단자동화전 328억 수출상담\"\n",
      "디티앤씨알오 “자동화 CRO 플랫폼으로 성장할 것”\n",
      "CJ대한통운, '디지털트윈' 기술로 자동화 박차\n",
      "시스코 '하이브리드 클라우드 관리, AI 분석 정확도와 자동화 필수'\n",
      "블루프리즘, 전사적 자동화 지원하는 통합 지능형 자동화 플랫폼 출시\n",
      "포스코ICT, 업무 자동화 솔루션 '에이웍스 3.0' 출시\n",
      "최고의 회사, 판매, 소비, 가격 및 성장률과 함께 광업 실험실 ...\n",
      "[기고] Digital Labor와 사람이 공생하는 '미래'가 아닌 '현실 ...\n",
      "[유통가Info.] 롯데홈쇼핑, 자동화 시스템 도입한 '이천 물류센터 ...\n",
      "플로어블, 사업 자동화 행사 '플로우페스트 2022' 개최… 보쉬 ...\n",
      "[한국산업대전] 물류 자동화 만드는 부품 및 솔루션\n",
      "산업자동화 TSN 공통 적합성 시험 개발 위한 TIACC 출범.. CC ...\n",
      "한화생명, 청약자동화 솔루션 특허 취득\n",
      "주방 자동화로 인력난 대처하는 日 국수전문점 '매직 누들 향미 ...\n",
      "엔터프라이즈 로봇 프로세스 자동화 시장 2022 성장, 최신 동향 ...\n",
      "코닉오토메이션, LG화학에 자동화시스템 구축\n",
      "백오피스 자동화 시장(2022~2028) – 산업 분야 전반에 걸쳐 ...\n"
     ]
    }
   ],
   "source": [
    "import time\n",
    "\n",
    "search_word = input(\"크롤링하고자 하는 단어를 입력하세요.\")\n",
    "page = int(input(\"크롤링하고자 하는 페이지수를 입력하세요.\"))\n",
    "\n",
    "url = 'https://www.google.com/search?q={}&tbs=qdr:w&tbm=nws&ei=QahYY_HaBpaghwPvkpTgAg&start={}&sa=N&ved=2ahUKEwix_-3q-Pz6AhUW0GEKHW8JBSwQ8tMDegQIARAE&biw=1242&bih=651&dpr=1'\n",
    "\n",
    "for i in range(0, page*10, 10):\n",
    "    final_url = url.format(search_word, i)\n",
    "    \n",
    "    browser.get(final_url)\n",
    "    time.sleep(3)\n",
    "    browser.implicitly_wait(10) # 10초를 기다려봐. 안되면 오류를 뱉어내고, 만약에 그전에 로딩이되면 진행해도되.\n",
    "    \n",
    "    titles = browser.find_elements(By.CLASS_NAME, 'mCBkyc')\n",
    "    \n",
    "    for title in titles:\n",
    "        print(title.text)        "
   ]
  },
  {
   "cell_type": "code",
   "execution_count": 15,
   "id": "ccddd9ba",
   "metadata": {},
   "outputs": [
    {
     "name": "stdout",
     "output_type": "stream",
     "text": [
      "크롤링하고자 하는 페이지수를 입력하세요.3\n",
      "gooogle.com/page=0\n",
      "gooogle.com/page=10\n",
      "gooogle.com/page=20\n"
     ]
    }
   ],
   "source": [
    "page = int(input(\"크롤링하고자 하는 페이지수를 입력하세요.\"))\n",
    "\n",
    "for i in range(0, page*10, 10):\n",
    "    url = \"gooogle.com/page={}\".format(i)    \n",
    "    print(url)\n",
    "    "
   ]
  },
  {
   "cell_type": "code",
   "execution_count": 20,
   "id": "639cb341",
   "metadata": {},
   "outputs": [
    {
     "name": "stdout",
     "output_type": "stream",
     "text": [
      "0\n",
      "10\n",
      "20\n",
      "30\n",
      "40\n",
      "50\n",
      "60\n",
      "70\n",
      "80\n",
      "90\n"
     ]
    }
   ],
   "source": [
    "for i in range(0, 100, 10):\n",
    "    print(i)"
   ]
  },
  {
   "cell_type": "code",
   "execution_count": 37,
   "id": "e531fe09",
   "metadata": {},
   "outputs": [
    {
     "ename": "TypeError",
     "evalue": "'NoneType' object is not iterable",
     "output_type": "error",
     "traceback": [
      "\u001b[0;31m---------------------------------------------------------------------------\u001b[0m",
      "\u001b[0;31mTypeError\u001b[0m                                 Traceback (most recent call last)",
      "Input \u001b[0;32mIn [37]\u001b[0m, in \u001b[0;36m<cell line: 1>\u001b[0;34m()\u001b[0m\n\u001b[0;32m----> 1\u001b[0m \u001b[38;5;28;01mfor\u001b[39;00m i \u001b[38;5;129;01min\u001b[39;00m \u001b[38;5;28;01mNone\u001b[39;00m:\n\u001b[1;32m      2\u001b[0m     \u001b[38;5;28mprint\u001b[39m(i)\n",
      "\u001b[0;31mTypeError\u001b[0m: 'NoneType' object is not iterable"
     ]
    }
   ],
   "source": [
    "for i in None:\n",
    "    print(i)"
   ]
  },
  {
   "cell_type": "code",
   "execution_count": null,
   "id": "80df6ef6",
   "metadata": {},
   "outputs": [],
   "source": []
  }
 ],
 "metadata": {
  "kernelspec": {
   "display_name": "Python 3 (ipykernel)",
   "language": "python",
   "name": "python3"
  },
  "language_info": {
   "codemirror_mode": {
    "name": "ipython",
    "version": 3
   },
   "file_extension": ".py",
   "mimetype": "text/x-python",
   "name": "python",
   "nbconvert_exporter": "python",
   "pygments_lexer": "ipython3",
   "version": "3.9.5"
  }
 },
 "nbformat": 4,
 "nbformat_minor": 5
}

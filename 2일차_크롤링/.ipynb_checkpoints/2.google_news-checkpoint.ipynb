{
 "cells": [
  {
   "cell_type": "markdown",
   "id": "2201b125",
   "metadata": {},
   "source": [
    "## 구글 뉴스 크롤링 (10페이지까지)\n",
    "\n",
    "- 목적: 구글 뉴스를 10페이지까지 긁어오는 것"
   ]
  },
  {
   "cell_type": "code",
   "execution_count": null,
   "id": "aa4f2706",
   "metadata": {},
   "outputs": [],
   "source": [
    "word = \"이름 : {}, 나이: {}\".format(\"leo\", \"30\")\n",
    "word"
   ]
  },
  {
   "cell_type": "code",
   "execution_count": 33,
   "id": "8cd5a03d",
   "metadata": {},
   "outputs": [],
   "source": [
    "from selenium import webdriver\n",
    "from selenium.webdriver.common.by import By"
   ]
  },
  {
   "cell_type": "code",
   "execution_count": 8,
   "id": "b7bfdc0f",
   "metadata": {},
   "outputs": [
    {
     "name": "stderr",
     "output_type": "stream",
     "text": [
      "/var/folders/sb/yyvqcbn90d979xflbm03f1480000gn/T/ipykernel_59244/2207422390.py:3: DeprecationWarning: executable_path has been deprecated, please pass in a Service object\n",
      "  browser = webdriver.Chrome(path) # \"./chromedriver.exe\"\n"
     ]
    }
   ],
   "source": [
    "path = \"/Users/inseop/Desktop/python/python-miyoung/2일차_크롤링/chromedriver\"\n",
    "\n",
    "browser = webdriver.Chrome(path) # \"./chromedriver.exe\""
   ]
  },
  {
   "cell_type": "code",
   "execution_count": 36,
   "id": "9ca21f38",
   "metadata": {},
   "outputs": [
    {
     "name": "stdout",
     "output_type": "stream",
     "text": [
      "크롤링하고자 하는 단어를 입력하세요.자동화\n",
      "크롤링하고자 하는 페이지수를 입력하세요.5\n",
      "[비즈&] 롯데홈쇼핑, 물류센터에 업계 최초 자동화 시스템 도입 外\n",
      "'5분이면 청약 끝'…한화생명, 청약자동화 솔루션 특허 취득\n",
      "지멘스, 차세대 IC DFT 자동화 솔루션 '테센트 멀티-다이' 공개\n",
      "창원시, 창원국제용접 및 절단자동화전 성료\n",
      "롯데홈쇼핑, 이천 물류센터 오픈...최첨단 자동화 시스템 갖춰\n",
      "[AI 기반 제조혁신-②] 조선업계, 업황 개선에 인력 부족은 더욱 ...\n",
      "포스코ICT, 업무자동화 솔루션 A.WORKS 3.0 출시\n",
      "[올쇼TV] \"FortiSOAR를 활용한 자동화 위협 대응 사례\" 11월 2일 ...\n",
      "로봇 기반 자동화 시스템으로…롯데홈쇼핑, '스마트 풀필먼트' 구축\n",
      "‘2022 국제 공구 및 스마트 용접 자동화전’ 성료\n",
      "제이엔피글로벌, 도로 시공 무인자동화 기업 충청에 시드투자\n",
      "유아이패스 “자동화 시장, RPA에서 지능형 프로세스 자동화(IPA ...\n",
      "셀텍월드' 축분뇨 자동화처리기'' 폐우유 처리기'\n",
      "창원시 \"국내 최대 용접 및 절단자동화전 328억 수출상담\"\n",
      "디티앤씨알오 “자동화 CRO 플랫폼으로 성장할 것”\n",
      "CJ대한통운, '디지털트윈' 기술로 자동화 박차\n",
      "블루프리즘, 전사적 자동화 지원하는 통합 지능형 자동화 플랫폼 출시\n",
      "포스코ICT, 업무 자동화 솔루션 '에이웍스 3.0' 출시\n",
      "최고의 회사, 판매, 소비, 가격 및 성장률과 함께 광업 실험실 ...\n",
      "[기고] Digital Labor와 사람이 공생하는 '미래'가 아닌 '현실 ...\n",
      "[유통가Info.] 롯데홈쇼핑, 자동화 시스템 도입한 '이천 물류센터 ...\n",
      "플로어블, 사업 자동화 행사 '플로우페스트 2022' 개최… 보쉬 ...\n",
      "[한국산업대전] 물류 자동화 만드는 부품 및 솔루션\n",
      "한화생명, 청약자동화 솔루션 특허 취득\n",
      "산업자동화 TSN 공통 적합성 시험 개발 위한 TIACC 출범.. CC ...\n",
      "엔터프라이즈 로봇 프로세스 자동화 시장 2022 성장, 최신 동향 ...\n",
      "주방 자동화로 인력난 대처하는 日 국수전문점 '매직 누들 향미 ...\n",
      "코닉오토메이션, LG화학에 자동화시스템 구축\n",
      "백오피스 자동화 시장(2022~2028) – 산업 분야 전반에 걸쳐 ...\n",
      "한국미쓰도요, 정밀 측정 자동화 주제 오픈하우스 개최\n",
      "한화생명, 청약 자동화 솔루션 특허 취득 < 금융.증권 < 경제 ...\n",
      "로봇신문사 모바일 모바일 사이트, 화낙, 아일랜드 로봇·자동화 ...\n",
      "'코스닥 상장' 앞둔 뉴로메카 \"로봇 자동화로 글로벌 본격 공략\"\n",
      "피플펀드, 대출 승인전략 자동화 시스템 개발…연내 적용\n",
      "美 인비아, 쉽히어로 2개 물류창고 추가 자동화\n",
      "[2022 로보월드 특집] 산업용 로봇 시장 동향\n",
      "롯데홈쇼핑, 자동화 설비 갖춘 이천 물류센터 오픈\n",
      "美 인비아, 쉽히어로 2개 물류창고 추가 자동화\n",
      "블루프리즘, 통합 지능형 자동화 플랫폼 출시 < 솔루션 < 뉴스 ...\n",
      "수출입 업무 자동화 플랫폼 씨에어허브, '메인비즈' 인증 획득\n",
      "지능형 프로세스 자동화(IPA) 시장 2022 글로벌 통찰력 및 ...\n",
      "그루밍 지역의 필드 포스 자동화 시장 경쟁 통찰력 및 기회 ...\n",
      "국무총리표창 조삼환 이레텍 대표, 자동화산업 분야에 새로운 비전 제시 [2022 로보월드]\n",
      "[한국산업대전] AI 기반 제상 자동화로 에너지 절감\n",
      "코닉오토메이션, LG화학 ‘검사 자동화 시스템’ 구축 수주\n",
      "대명산업기술, ‘2022 창원국제용접 및 절단자동화전’서 로봇 용접 자동화 시스템 소개해… “제조업 무인화·자동화에 도전”\n",
      "“한국 조직 10곳 중 7곳, 2025년까지 RPA 도입·확장할 것”\n",
      "양식 자동화 소프트웨어 시장 2022 규모, 성장 분석 보고서 ...\n",
      "로봇 공학 기반 자동화 시스템 2022-2028 시장 규모, 성장, 동향 ...\n",
      "지멘스, DFT 작업 자동화 위한 '테센트 멀티 다이' 솔루션 발표\n"
     ]
    }
   ],
   "source": [
    "import time\n",
    "\n",
    "search_word = input(\"크롤링하고자 하는 단어를 입력하세요.\")\n",
    "page = int(input(\"크롤링하고자 하는 페이지수를 입력하세요.\"))\n",
    "\n",
    "url = 'https://www.google.com/search?q={}&tbs=qdr:w&tbm=nws&ei=QahYY_HaBpaghwPvkpTgAg&start={}&sa=N&ved=2ahUKEwix_-3q-Pz6AhUW0GEKHW8JBSwQ8tMDegQIARAE&biw=1242&bih=651&dpr=1'\n",
    "\n",
    "for i in range(0, page*10, 10):\n",
    "    final_url = url.format(search_word, i)\n",
    "    \n",
    "    browser.get(final_url)\n",
    "    time.sleep(3)\n",
    "    browser.implicitly_wait(10) # 10초를 기다려봐. 안되면 오류를 뱉어내고, 만약에 그전에 로딩이되면 진행해도되.\n",
    "    \n",
    "    titles = browser.find_elements(By.CLASS_NAME, 'mCBkyc')\n",
    "    \n",
    "    for title in titles:\n",
    "        print(title.text)\n",
    "        \n",
    "        "
   ]
  },
  {
   "cell_type": "code",
   "execution_count": 15,
   "id": "60ea8cd0",
   "metadata": {},
   "outputs": [
    {
     "name": "stdout",
     "output_type": "stream",
     "text": [
      "크롤링하고자 하는 페이지수를 입력하세요.3\n",
      "gooogle.com/page=0\n",
      "gooogle.com/page=10\n",
      "gooogle.com/page=20\n"
     ]
    }
   ],
   "source": [
    "page = int(input(\"크롤링하고자 하는 페이지수를 입력하세요.\"))\n",
    "\n",
    "for i in range(0, page*10, 10):\n",
    "    url = \"gooogle.com/page={}\".format(i)    \n",
    "    print(url)\n",
    "    "
   ]
  },
  {
   "cell_type": "code",
   "execution_count": 20,
   "id": "0ae392ce",
   "metadata": {},
   "outputs": [
    {
     "name": "stdout",
     "output_type": "stream",
     "text": [
      "0\n",
      "10\n",
      "20\n",
      "30\n",
      "40\n",
      "50\n",
      "60\n",
      "70\n",
      "80\n",
      "90\n"
     ]
    }
   ],
   "source": [
    "for i in range(0, 100, 10):\n",
    "    print(i)"
   ]
  },
  {
   "cell_type": "code",
   "execution_count": 37,
   "id": "269af51d",
   "metadata": {},
   "outputs": [
    {
     "ename": "TypeError",
     "evalue": "'NoneType' object is not iterable",
     "output_type": "error",
     "traceback": [
      "\u001b[0;31m---------------------------------------------------------------------------\u001b[0m",
      "\u001b[0;31mTypeError\u001b[0m                                 Traceback (most recent call last)",
      "Input \u001b[0;32mIn [37]\u001b[0m, in \u001b[0;36m<cell line: 1>\u001b[0;34m()\u001b[0m\n\u001b[0;32m----> 1\u001b[0m \u001b[38;5;28;01mfor\u001b[39;00m i \u001b[38;5;129;01min\u001b[39;00m \u001b[38;5;28;01mNone\u001b[39;00m:\n\u001b[1;32m      2\u001b[0m     \u001b[38;5;28mprint\u001b[39m(i)\n",
      "\u001b[0;31mTypeError\u001b[0m: 'NoneType' object is not iterable"
     ]
    }
   ],
   "source": [
    "for i in None:\n",
    "    print(i)"
   ]
  },
  {
   "cell_type": "code",
   "execution_count": null,
   "id": "f9d54018",
   "metadata": {},
   "outputs": [],
   "source": []
  }
 ],
 "metadata": {
  "kernelspec": {
   "display_name": "Python 3 (ipykernel)",
   "language": "python",
   "name": "python3"
  },
  "language_info": {
   "codemirror_mode": {
    "name": "ipython",
    "version": 3
   },
   "file_extension": ".py",
   "mimetype": "text/x-python",
   "name": "python",
   "nbconvert_exporter": "python",
   "pygments_lexer": "ipython3",
   "version": "3.9.5"
  }
 },
 "nbformat": 4,
 "nbformat_minor": 5
}

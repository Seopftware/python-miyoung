{
 "cells": [
  {
   "cell_type": "markdown",
   "id": "8b0f9839",
   "metadata": {},
   "source": [
    "## DBPIA 논문 데이터 크롤링\n",
    "\n",
    "- 상세페이지의 제목과 내용 데이터를 가져온다."
   ]
  },
  {
   "cell_type": "code",
   "execution_count": 18,
   "id": "02c2e368",
   "metadata": {},
   "outputs": [],
   "source": [
    "from selenium import webdriver\n",
    "from selenium.webdriver.common.by import By"
   ]
  },
  {
   "cell_type": "code",
   "execution_count": 19,
   "id": "61261794",
   "metadata": {},
   "outputs": [
    {
     "name": "stderr",
     "output_type": "stream",
     "text": [
      "/var/folders/sb/yyvqcbn90d979xflbm03f1480000gn/T/ipykernel_84018/3466816600.py:2: DeprecationWarning: executable_path has been deprecated, please pass in a Service object\n",
      "  browser = webdriver.Chrome(path) # \"./chromedriver.exe\"\n"
     ]
    }
   ],
   "source": [
    "path = \"/Users/inseop/Desktop/python/python-miyoung/2일차_크롤링/chromedriver\"\n",
    "browser = webdriver.Chrome(path) # \"./chromedriver.exe\""
   ]
  },
  {
   "cell_type": "code",
   "execution_count": 20,
   "id": "d2a99525",
   "metadata": {},
   "outputs": [
    {
     "name": "stdout",
     "output_type": "stream",
     "text": [
      "검색하시고자 하는 논문의 제목을 입력해 주세요.인공지능\n"
     ]
    }
   ],
   "source": [
    "search_word = input(\"검색하시고자 하는 논문의 제목을 입력해 주세요.\")\n",
    "url = 'https://www.dbpia.co.kr/search/topSearch?searchOption=all&query={}'\n",
    "\n",
    "final_url = url.format(search_word)\n",
    "\n",
    "browser.get(final_url)"
   ]
  },
  {
   "cell_type": "code",
   "execution_count": 39,
   "id": "b6df6ced",
   "metadata": {},
   "outputs": [],
   "source": [
    "import time\n",
    "\n",
    "for i in range(1,11):\n",
    "    xpath = '//*[@id=\"pageList\"]/a[{}]'.format(str(i))\n",
    "    browser.find_element(By.XPATH, xpath).click()\n",
    "    time.sleep(5)"
   ]
  },
  {
   "cell_type": "code",
   "execution_count": 40,
   "id": "8e7527a7",
   "metadata": {},
   "outputs": [
    {
     "data": {
      "text/plain": [
       "'https://www.dbpia.co.kr/journal/articleDetail?nodeId=NODE11139855'"
      ]
     },
     "execution_count": 40,
     "metadata": {},
     "output_type": "execute_result"
    }
   ],
   "source": [
    "browser.find_element(By.CLASS_NAME, 'thesis__link').get_attribute('href')"
   ]
  },
  {
   "cell_type": "code",
   "execution_count": 44,
   "id": "caa77e9d",
   "metadata": {},
   "outputs": [
    {
     "name": "stdout",
     "output_type": "stream",
     "text": [
      "https://www.dbpia.co.kr/journal/articleDetail?nodeId=NODE11139855\n",
      "https://www.dbpia.co.kr/journal/articleDetail?nodeId=NODE11138506\n",
      "https://www.dbpia.co.kr/journal/articleDetail?nodeId=NODE11139397\n",
      "https://www.dbpia.co.kr/journal/articleDetail?nodeId=NODE11144464\n",
      "https://www.dbpia.co.kr/journal/articleDetail?nodeId=NODE11140220\n",
      "https://www.dbpia.co.kr/journal/articleDetail?nodeId=NODE11136896\n",
      "https://www.dbpia.co.kr/journal/articleDetail?nodeId=NODE11143603\n",
      "https://www.dbpia.co.kr/journal/articleDetail?nodeId=NODE11140186\n",
      "https://www.dbpia.co.kr/journal/articleDetail?nodeId=NODE11143234\n",
      "https://www.dbpia.co.kr/journal/articleDetail?nodeId=NODE11139981\n",
      "https://www.dbpia.co.kr/journal/articleDetail?nodeId=NODE11139969\n",
      "https://www.dbpia.co.kr/journal/articleDetail?nodeId=NODE11138316\n",
      "https://www.dbpia.co.kr/journal/articleDetail?nodeId=NODE11140185\n",
      "https://www.dbpia.co.kr/journal/articleDetail?nodeId=NODE11143185\n",
      "https://www.dbpia.co.kr/journal/articleDetail?nodeId=NODE11139716\n",
      "https://www.dbpia.co.kr/journal/articleDetail?nodeId=NODE11139709\n",
      "https://www.dbpia.co.kr/journal/articleDetail?nodeId=NODE11144116\n",
      "https://www.dbpia.co.kr/journal/articleDetail?nodeId=NODE11135038\n",
      "https://www.dbpia.co.kr/journal/articleDetail?nodeId=NODE11142008\n",
      "https://www.dbpia.co.kr/journal/articleDetail?nodeId=NODE11137764\n"
     ]
    }
   ],
   "source": [
    "links = browser.find_elements(By.CLASS_NAME, 'thesis__link')\n",
    "\n",
    "for element in links:\n",
    "    print(element.get_attribute('href'))"
   ]
  },
  {
   "cell_type": "code",
   "execution_count": 50,
   "id": "35161c18",
   "metadata": {},
   "outputs": [
    {
     "ename": "NoSuchElementException",
     "evalue": "Message: no such element: Unable to locate element: {\"method\":\"css selector\",\"selector\":\".abstractTxt\"}\n  (Session info: chrome=107.0.5304.62)\nStacktrace:\n0   chromedriver                        0x0000000107ee5598 chromedriver + 4404632\n1   chromedriver                        0x0000000107e6cfa3 chromedriver + 3911587\n2   chromedriver                        0x0000000107b19e6a chromedriver + 425578\n3   chromedriver                        0x0000000107b51c91 chromedriver + 654481\n4   chromedriver                        0x0000000107b51e91 chromedriver + 654993\n5   chromedriver                        0x0000000107b89274 chromedriver + 881268\n6   chromedriver                        0x0000000107b6fdcd chromedriver + 777677\n7   chromedriver                        0x0000000107b86f79 chromedriver + 872313\n8   chromedriver                        0x0000000107b6fbd3 chromedriver + 777171\n9   chromedriver                        0x0000000107b44ced chromedriver + 601325\n10  chromedriver                        0x0000000107b45e51 chromedriver + 605777\n11  chromedriver                        0x0000000107eb50ce chromedriver + 4206798\n12  chromedriver                        0x0000000107eb9797 chromedriver + 4224919\n13  chromedriver                        0x0000000107ec0a4f chromedriver + 4254287\n14  chromedriver                        0x0000000107eba4da chromedriver + 4228314\n15  chromedriver                        0x0000000107e9323f chromedriver + 4067903\n16  chromedriver                        0x0000000107ed76a8 chromedriver + 4347560\n17  chromedriver                        0x0000000107ed7816 chromedriver + 4347926\n18  chromedriver                        0x0000000107eec8fe chromedriver + 4434174\n19  libsystem_pthread.dylib             0x00007ff813af34e1 _pthread_start + 125\n20  libsystem_pthread.dylib             0x00007ff813aeef6b thread_start + 15\n",
     "output_type": "error",
     "traceback": [
      "\u001b[0;31m---------------------------------------------------------------------------\u001b[0m",
      "\u001b[0;31mNoSuchElementException\u001b[0m                    Traceback (most recent call last)",
      "Input \u001b[0;32mIn [50]\u001b[0m, in \u001b[0;36m<cell line: 5>\u001b[0;34m()\u001b[0m\n\u001b[1;32m      7\u001b[0m browser\u001b[38;5;241m.\u001b[39mget(link)\n\u001b[1;32m      9\u001b[0m time\u001b[38;5;241m.\u001b[39msleep(\u001b[38;5;241m3\u001b[39m)\n\u001b[0;32m---> 11\u001b[0m content \u001b[38;5;241m=\u001b[39m \u001b[43mbrowser\u001b[49m\u001b[38;5;241;43m.\u001b[39;49m\u001b[43mfind_element\u001b[49m\u001b[43m(\u001b[49m\u001b[43mBy\u001b[49m\u001b[38;5;241;43m.\u001b[39;49m\u001b[43mCLASS_NAME\u001b[49m\u001b[43m,\u001b[49m\u001b[43m \u001b[49m\u001b[38;5;124;43m'\u001b[39;49m\u001b[38;5;124;43mabstractTxt\u001b[39;49m\u001b[38;5;124;43m'\u001b[39;49m\u001b[43m)\u001b[49m\u001b[38;5;241m.\u001b[39mtext\n\u001b[1;32m     12\u001b[0m content_list\u001b[38;5;241m.\u001b[39mappend(content)\n\u001b[1;32m     14\u001b[0m browser\u001b[38;5;241m.\u001b[39mback()\n",
      "File \u001b[0;32m/Library/Frameworks/Python.framework/Versions/3.9/lib/python3.9/site-packages/selenium/webdriver/remote/webdriver.py:856\u001b[0m, in \u001b[0;36mWebDriver.find_element\u001b[0;34m(self, by, value)\u001b[0m\n\u001b[1;32m    853\u001b[0m     by \u001b[38;5;241m=\u001b[39m By\u001b[38;5;241m.\u001b[39mCSS_SELECTOR\n\u001b[1;32m    854\u001b[0m     value \u001b[38;5;241m=\u001b[39m \u001b[38;5;124m'\u001b[39m\u001b[38;5;124m[name=\u001b[39m\u001b[38;5;124m\"\u001b[39m\u001b[38;5;132;01m%s\u001b[39;00m\u001b[38;5;124m\"\u001b[39m\u001b[38;5;124m]\u001b[39m\u001b[38;5;124m'\u001b[39m \u001b[38;5;241m%\u001b[39m value\n\u001b[0;32m--> 856\u001b[0m \u001b[38;5;28;01mreturn\u001b[39;00m \u001b[38;5;28;43mself\u001b[39;49m\u001b[38;5;241;43m.\u001b[39;49m\u001b[43mexecute\u001b[49m\u001b[43m(\u001b[49m\u001b[43mCommand\u001b[49m\u001b[38;5;241;43m.\u001b[39;49m\u001b[43mFIND_ELEMENT\u001b[49m\u001b[43m,\u001b[49m\u001b[43m \u001b[49m\u001b[43m{\u001b[49m\n\u001b[1;32m    857\u001b[0m \u001b[43m    \u001b[49m\u001b[38;5;124;43m'\u001b[39;49m\u001b[38;5;124;43musing\u001b[39;49m\u001b[38;5;124;43m'\u001b[39;49m\u001b[43m:\u001b[49m\u001b[43m \u001b[49m\u001b[43mby\u001b[49m\u001b[43m,\u001b[49m\n\u001b[1;32m    858\u001b[0m \u001b[43m    \u001b[49m\u001b[38;5;124;43m'\u001b[39;49m\u001b[38;5;124;43mvalue\u001b[39;49m\u001b[38;5;124;43m'\u001b[39;49m\u001b[43m:\u001b[49m\u001b[43m \u001b[49m\u001b[43mvalue\u001b[49m\u001b[43m}\u001b[49m\u001b[43m)\u001b[49m[\u001b[38;5;124m'\u001b[39m\u001b[38;5;124mvalue\u001b[39m\u001b[38;5;124m'\u001b[39m]\n",
      "File \u001b[0;32m/Library/Frameworks/Python.framework/Versions/3.9/lib/python3.9/site-packages/selenium/webdriver/remote/webdriver.py:429\u001b[0m, in \u001b[0;36mWebDriver.execute\u001b[0;34m(self, driver_command, params)\u001b[0m\n\u001b[1;32m    427\u001b[0m response \u001b[38;5;241m=\u001b[39m \u001b[38;5;28mself\u001b[39m\u001b[38;5;241m.\u001b[39mcommand_executor\u001b[38;5;241m.\u001b[39mexecute(driver_command, params)\n\u001b[1;32m    428\u001b[0m \u001b[38;5;28;01mif\u001b[39;00m response:\n\u001b[0;32m--> 429\u001b[0m     \u001b[38;5;28;43mself\u001b[39;49m\u001b[38;5;241;43m.\u001b[39;49m\u001b[43merror_handler\u001b[49m\u001b[38;5;241;43m.\u001b[39;49m\u001b[43mcheck_response\u001b[49m\u001b[43m(\u001b[49m\u001b[43mresponse\u001b[49m\u001b[43m)\u001b[49m\n\u001b[1;32m    430\u001b[0m     response[\u001b[38;5;124m'\u001b[39m\u001b[38;5;124mvalue\u001b[39m\u001b[38;5;124m'\u001b[39m] \u001b[38;5;241m=\u001b[39m \u001b[38;5;28mself\u001b[39m\u001b[38;5;241m.\u001b[39m_unwrap_value(\n\u001b[1;32m    431\u001b[0m         response\u001b[38;5;241m.\u001b[39mget(\u001b[38;5;124m'\u001b[39m\u001b[38;5;124mvalue\u001b[39m\u001b[38;5;124m'\u001b[39m, \u001b[38;5;28;01mNone\u001b[39;00m))\n\u001b[1;32m    432\u001b[0m     \u001b[38;5;28;01mreturn\u001b[39;00m response\n",
      "File \u001b[0;32m/Library/Frameworks/Python.framework/Versions/3.9/lib/python3.9/site-packages/selenium/webdriver/remote/errorhandler.py:243\u001b[0m, in \u001b[0;36mErrorHandler.check_response\u001b[0;34m(self, response)\u001b[0m\n\u001b[1;32m    241\u001b[0m         alert_text \u001b[38;5;241m=\u001b[39m value[\u001b[38;5;124m'\u001b[39m\u001b[38;5;124malert\u001b[39m\u001b[38;5;124m'\u001b[39m]\u001b[38;5;241m.\u001b[39mget(\u001b[38;5;124m'\u001b[39m\u001b[38;5;124mtext\u001b[39m\u001b[38;5;124m'\u001b[39m)\n\u001b[1;32m    242\u001b[0m     \u001b[38;5;28;01mraise\u001b[39;00m exception_class(message, screen, stacktrace, alert_text)  \u001b[38;5;66;03m# type: ignore[call-arg]  # mypy is not smart enough here\u001b[39;00m\n\u001b[0;32m--> 243\u001b[0m \u001b[38;5;28;01mraise\u001b[39;00m exception_class(message, screen, stacktrace)\n",
      "\u001b[0;31mNoSuchElementException\u001b[0m: Message: no such element: Unable to locate element: {\"method\":\"css selector\",\"selector\":\".abstractTxt\"}\n  (Session info: chrome=107.0.5304.62)\nStacktrace:\n0   chromedriver                        0x0000000107ee5598 chromedriver + 4404632\n1   chromedriver                        0x0000000107e6cfa3 chromedriver + 3911587\n2   chromedriver                        0x0000000107b19e6a chromedriver + 425578\n3   chromedriver                        0x0000000107b51c91 chromedriver + 654481\n4   chromedriver                        0x0000000107b51e91 chromedriver + 654993\n5   chromedriver                        0x0000000107b89274 chromedriver + 881268\n6   chromedriver                        0x0000000107b6fdcd chromedriver + 777677\n7   chromedriver                        0x0000000107b86f79 chromedriver + 872313\n8   chromedriver                        0x0000000107b6fbd3 chromedriver + 777171\n9   chromedriver                        0x0000000107b44ced chromedriver + 601325\n10  chromedriver                        0x0000000107b45e51 chromedriver + 605777\n11  chromedriver                        0x0000000107eb50ce chromedriver + 4206798\n12  chromedriver                        0x0000000107eb9797 chromedriver + 4224919\n13  chromedriver                        0x0000000107ec0a4f chromedriver + 4254287\n14  chromedriver                        0x0000000107eba4da chromedriver + 4228314\n15  chromedriver                        0x0000000107e9323f chromedriver + 4067903\n16  chromedriver                        0x0000000107ed76a8 chromedriver + 4347560\n17  chromedriver                        0x0000000107ed7816 chromedriver + 4347926\n18  chromedriver                        0x0000000107eec8fe chromedriver + 4434174\n19  libsystem_pthread.dylib             0x00007ff813af34e1 _pthread_start + 125\n20  libsystem_pthread.dylib             0x00007ff813aeef6b thread_start + 15\n"
     ]
    }
   ],
   "source": [
    "import time\n",
    "containers = browser.find_elements(By.CLASS_NAME, 'thesis__summary')\n",
    "\n",
    "content_list = []\n",
    "for container in containers:\n",
    "    link = container.find_element(By.CLASS_NAME, 'thesis__link').get_attribute('href')\n",
    "    browser.get(link)\n",
    "    \n",
    "    time.sleep(3)\n",
    "        \n",
    "    try:\n",
    "        content = browser.find_element(By.CLASS_NAME, 'abstractTxt').text\n",
    "    except:\n",
    "        content = \"vacant\"\n",
    "        \n",
    "    content_list.append(content)\n",
    "    browser.back() # 뒤로가기\n",
    "\n",
    "print(content_list)"
   ]
  },
  {
   "cell_type": "code",
   "execution_count": 52,
   "id": "67d87df9",
   "metadata": {},
   "outputs": [
    {
     "name": "stdout",
     "output_type": "stream",
     "text": [
      "['https://www.dbpia.co.kr/journal/articleDetail?nodeId=NODE11139855', 'https://www.dbpia.co.kr/journal/articleDetail?nodeId=NODE11138506', 'https://www.dbpia.co.kr/journal/articleDetail?nodeId=NODE11139397', 'https://www.dbpia.co.kr/journal/articleDetail?nodeId=NODE11144464', 'https://www.dbpia.co.kr/journal/articleDetail?nodeId=NODE11140220', 'https://www.dbpia.co.kr/journal/articleDetail?nodeId=NODE11136896', 'https://www.dbpia.co.kr/journal/articleDetail?nodeId=NODE11143603', 'https://www.dbpia.co.kr/journal/articleDetail?nodeId=NODE11140186', 'https://www.dbpia.co.kr/journal/articleDetail?nodeId=NODE11143234', 'https://www.dbpia.co.kr/journal/articleDetail?nodeId=NODE11139981', 'https://www.dbpia.co.kr/journal/articleDetail?nodeId=NODE11139969', 'https://www.dbpia.co.kr/journal/articleDetail?nodeId=NODE11138316', 'https://www.dbpia.co.kr/journal/articleDetail?nodeId=NODE11140185', 'https://www.dbpia.co.kr/journal/articleDetail?nodeId=NODE11143185', 'https://www.dbpia.co.kr/journal/articleDetail?nodeId=NODE11139716', 'https://www.dbpia.co.kr/journal/articleDetail?nodeId=NODE11139709', 'https://www.dbpia.co.kr/journal/articleDetail?nodeId=NODE11144116', 'https://www.dbpia.co.kr/journal/articleDetail?nodeId=NODE11135038', 'https://www.dbpia.co.kr/journal/articleDetail?nodeId=NODE11142008', 'https://www.dbpia.co.kr/journal/articleDetail?nodeId=NODE11137764']\n"
     ]
    }
   ],
   "source": [
    "import time\n",
    "containers = browser.find_elements(By.CLASS_NAME, 'thesis__summary')\n",
    "\n",
    "link_list = []\n",
    "for container in containers:\n",
    "    link = container.find_element(By.CLASS_NAME, 'thesis__link').get_attribute('href')\n",
    "    link_list.append(link)\n",
    "    \n",
    "print(link_list)\n",
    "\n",
    "content_list = []\n",
    "for link in link_list:\n",
    "    browser.get(link)\n",
    "    time.sleep(2)\n",
    "        \n",
    "    try:\n",
    "        content = browser.find_element(By.CLASS_NAME, 'abstractTxt').text\n",
    "    except:\n",
    "        content = \"vacant\"\n",
    "\n",
    "    content_list.append(content)\n"
   ]
  },
  {
   "cell_type": "code",
   "execution_count": null,
   "id": "f77a23f6",
   "metadata": {},
   "outputs": [],
   "source": []
  }
 ],
 "metadata": {
  "kernelspec": {
   "display_name": "Python 3 (ipykernel)",
   "language": "python",
   "name": "python3"
  },
  "language_info": {
   "codemirror_mode": {
    "name": "ipython",
    "version": 3
   },
   "file_extension": ".py",
   "mimetype": "text/x-python",
   "name": "python",
   "nbconvert_exporter": "python",
   "pygments_lexer": "ipython3",
   "version": "3.9.5"
  }
 },
 "nbformat": 4,
 "nbformat_minor": 5
}

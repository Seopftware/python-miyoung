{
 "cells": [
  {
   "cell_type": "markdown",
   "id": "3ddbf651",
   "metadata": {},
   "source": [
    "# 크롤링 기초\n",
    "## 네이버 날씨 정보 가져오기"
   ]
  },
  {
   "cell_type": "code",
   "execution_count": 1,
   "id": "b1738c03",
   "metadata": {},
   "outputs": [
    {
     "name": "stdout",
     "output_type": "stream",
     "text": [
      "Requirement already satisfied: selenium in /Library/Frameworks/Python.framework/Versions/3.9/lib/python3.9/site-packages (4.5.0)\n",
      "Requirement already satisfied: trio~=0.17 in /Library/Frameworks/Python.framework/Versions/3.9/lib/python3.9/site-packages (from selenium) (0.22.0)\n",
      "Requirement already satisfied: urllib3[socks]~=1.26 in /Library/Frameworks/Python.framework/Versions/3.9/lib/python3.9/site-packages (from selenium) (1.26.10)\n",
      "Requirement already satisfied: certifi>=2021.10.8 in /Library/Frameworks/Python.framework/Versions/3.9/lib/python3.9/site-packages (from selenium) (2021.10.8)\n",
      "Requirement already satisfied: trio-websocket~=0.9 in /Library/Frameworks/Python.framework/Versions/3.9/lib/python3.9/site-packages (from selenium) (0.9.2)\n",
      "Requirement already satisfied: attrs>=19.2.0 in /Library/Frameworks/Python.framework/Versions/3.9/lib/python3.9/site-packages (from trio~=0.17->selenium) (21.4.0)\n",
      "Requirement already satisfied: sortedcontainers in /Library/Frameworks/Python.framework/Versions/3.9/lib/python3.9/site-packages (from trio~=0.17->selenium) (2.4.0)\n",
      "Requirement already satisfied: sniffio in /Library/Frameworks/Python.framework/Versions/3.9/lib/python3.9/site-packages (from trio~=0.17->selenium) (1.3.0)\n",
      "Requirement already satisfied: exceptiongroup>=1.0.0rc9 in /Library/Frameworks/Python.framework/Versions/3.9/lib/python3.9/site-packages (from trio~=0.17->selenium) (1.0.0rc9)\n",
      "Requirement already satisfied: async-generator>=1.9 in /Library/Frameworks/Python.framework/Versions/3.9/lib/python3.9/site-packages (from trio~=0.17->selenium) (1.10)\n",
      "Requirement already satisfied: idna in /Library/Frameworks/Python.framework/Versions/3.9/lib/python3.9/site-packages (from trio~=0.17->selenium) (3.3)\n",
      "Requirement already satisfied: outcome in /Library/Frameworks/Python.framework/Versions/3.9/lib/python3.9/site-packages (from trio~=0.17->selenium) (1.2.0)\n",
      "Requirement already satisfied: wsproto>=0.14 in /Library/Frameworks/Python.framework/Versions/3.9/lib/python3.9/site-packages (from trio-websocket~=0.9->selenium) (1.2.0)\n",
      "Requirement already satisfied: PySocks!=1.5.7,<2.0,>=1.5.6 in /Library/Frameworks/Python.framework/Versions/3.9/lib/python3.9/site-packages (from urllib3[socks]~=1.26->selenium) (1.7.1)\n",
      "Requirement already satisfied: h11<1,>=0.9.0 in /Library/Frameworks/Python.framework/Versions/3.9/lib/python3.9/site-packages (from wsproto>=0.14->trio-websocket~=0.9->selenium) (0.14.0)\n",
      "\n",
      "\u001b[1m[\u001b[0m\u001b[34;49mnotice\u001b[0m\u001b[1;39;49m]\u001b[0m\u001b[39;49m A new release of pip available: \u001b[0m\u001b[31;49m22.3\u001b[0m\u001b[39;49m -> \u001b[0m\u001b[32;49m22.3.1\u001b[0m\n",
      "\u001b[1m[\u001b[0m\u001b[34;49mnotice\u001b[0m\u001b[1;39;49m]\u001b[0m\u001b[39;49m To update, run: \u001b[0m\u001b[32;49mpip install --upgrade pip\u001b[0m\n",
      "Note: you may need to restart the kernel to use updated packages.\n"
     ]
    }
   ],
   "source": [
    "pip install selenium"
   ]
  },
  {
   "cell_type": "code",
   "execution_count": 2,
   "id": "d1d51c0d",
   "metadata": {},
   "outputs": [],
   "source": [
    "from selenium import webdriver"
   ]
  },
  {
   "cell_type": "code",
   "execution_count": 6,
   "id": "29669729",
   "metadata": {},
   "outputs": [
    {
     "name": "stderr",
     "output_type": "stream",
     "text": [
      "/var/folders/sb/yyvqcbn90d979xflbm03f1480000gn/T/ipykernel_98461/3813303150.py:4: DeprecationWarning: executable_path has been deprecated, please pass in a Service object\n",
      "  browser = webdriver.Chrome(PATH)\n"
     ]
    },
    {
     "ename": "SessionNotCreatedException",
     "evalue": "Message: session not created: This version of ChromeDriver only supports Chrome version 106\nCurrent browser version is 108.0.5359.124 with binary path /Applications/Google Chrome.app/Contents/MacOS/Google Chrome\nStacktrace:\n0   chromedriver                        0x00000001064dd598 chromedriver + 4404632\n1   chromedriver                        0x0000000106464fa3 chromedriver + 3911587\n2   chromedriver                        0x0000000106111e6a chromedriver + 425578\n3   chromedriver                        0x000000010613a916 chromedriver + 592150\n4   chromedriver                        0x0000000106136328 chromedriver + 574248\n5   chromedriver                        0x00000001061323be chromedriver + 558014\n6   chromedriver                        0x000000010616f8fa chromedriver + 809210\n7   chromedriver                        0x000000010616f2bf chromedriver + 807615\n8   chromedriver                        0x0000000106167bd3 chromedriver + 777171\n9   chromedriver                        0x000000010613cced chromedriver + 601325\n10  chromedriver                        0x000000010613de51 chromedriver + 605777\n11  chromedriver                        0x00000001064ad0ce chromedriver + 4206798\n12  chromedriver                        0x00000001064b1797 chromedriver + 4224919\n13  chromedriver                        0x00000001064b8a4f chromedriver + 4254287\n14  chromedriver                        0x00000001064b24da chromedriver + 4228314\n15  chromedriver                        0x000000010648b23f chromedriver + 4067903\n16  chromedriver                        0x00000001064cf6a8 chromedriver + 4347560\n17  chromedriver                        0x00000001064cf816 chromedriver + 4347926\n18  chromedriver                        0x00000001064e48fe chromedriver + 4434174\n19  libsystem_pthread.dylib             0x00007ff8010c14e1 _pthread_start + 125\n20  libsystem_pthread.dylib             0x00007ff8010bcf6b thread_start + 15\n",
     "output_type": "error",
     "traceback": [
      "\u001b[0;31m---------------------------------------------------------------------------\u001b[0m",
      "\u001b[0;31mSessionNotCreatedException\u001b[0m                Traceback (most recent call last)",
      "Input \u001b[0;32mIn [6]\u001b[0m, in \u001b[0;36m<cell line: 4>\u001b[0;34m()\u001b[0m\n\u001b[1;32m      1\u001b[0m \u001b[38;5;66;03m# browser = webdriver.Chrome()\u001b[39;00m\n\u001b[1;32m      3\u001b[0m PATH \u001b[38;5;241m=\u001b[39m \u001b[38;5;124m\"\u001b[39m\u001b[38;5;124m/Users/inseop/Desktop/python/python-miyoung/2일차_크롤링/chromedriver\u001b[39m\u001b[38;5;124m\"\u001b[39m\n\u001b[0;32m----> 4\u001b[0m browser \u001b[38;5;241m=\u001b[39m \u001b[43mwebdriver\u001b[49m\u001b[38;5;241;43m.\u001b[39;49m\u001b[43mChrome\u001b[49m\u001b[43m(\u001b[49m\u001b[43mPATH\u001b[49m\u001b[43m)\u001b[49m\n",
      "File \u001b[0;32m/Library/Frameworks/Python.framework/Versions/3.9/lib/python3.9/site-packages/selenium/webdriver/chrome/webdriver.py:69\u001b[0m, in \u001b[0;36mWebDriver.__init__\u001b[0;34m(self, executable_path, port, options, service_args, desired_capabilities, service_log_path, chrome_options, service, keep_alive)\u001b[0m\n\u001b[1;32m     66\u001b[0m \u001b[38;5;28;01mif\u001b[39;00m \u001b[38;5;129;01mnot\u001b[39;00m service:\n\u001b[1;32m     67\u001b[0m     service \u001b[38;5;241m=\u001b[39m Service(executable_path, port, service_args, service_log_path)\n\u001b[0;32m---> 69\u001b[0m \u001b[38;5;28;43msuper\u001b[39;49m\u001b[43m(\u001b[49m\u001b[43m)\u001b[49m\u001b[38;5;241;43m.\u001b[39;49m\u001b[38;5;21;43m__init__\u001b[39;49m\u001b[43m(\u001b[49m\u001b[43mDesiredCapabilities\u001b[49m\u001b[38;5;241;43m.\u001b[39;49m\u001b[43mCHROME\u001b[49m\u001b[43m[\u001b[49m\u001b[38;5;124;43m'\u001b[39;49m\u001b[38;5;124;43mbrowserName\u001b[39;49m\u001b[38;5;124;43m'\u001b[39;49m\u001b[43m]\u001b[49m\u001b[43m,\u001b[49m\u001b[43m \u001b[49m\u001b[38;5;124;43m\"\u001b[39;49m\u001b[38;5;124;43mgoog\u001b[39;49m\u001b[38;5;124;43m\"\u001b[39;49m\u001b[43m,\u001b[49m\n\u001b[1;32m     70\u001b[0m \u001b[43m                 \u001b[49m\u001b[43mport\u001b[49m\u001b[43m,\u001b[49m\u001b[43m \u001b[49m\u001b[43moptions\u001b[49m\u001b[43m,\u001b[49m\n\u001b[1;32m     71\u001b[0m \u001b[43m                 \u001b[49m\u001b[43mservice_args\u001b[49m\u001b[43m,\u001b[49m\u001b[43m \u001b[49m\u001b[43mdesired_capabilities\u001b[49m\u001b[43m,\u001b[49m\n\u001b[1;32m     72\u001b[0m \u001b[43m                 \u001b[49m\u001b[43mservice_log_path\u001b[49m\u001b[43m,\u001b[49m\u001b[43m \u001b[49m\u001b[43mservice\u001b[49m\u001b[43m,\u001b[49m\u001b[43m \u001b[49m\u001b[43mkeep_alive\u001b[49m\u001b[43m)\u001b[49m\n",
      "File \u001b[0;32m/Library/Frameworks/Python.framework/Versions/3.9/lib/python3.9/site-packages/selenium/webdriver/chromium/webdriver.py:92\u001b[0m, in \u001b[0;36mChromiumDriver.__init__\u001b[0;34m(self, browser_name, vendor_prefix, port, options, service_args, desired_capabilities, service_log_path, service, keep_alive)\u001b[0m\n\u001b[1;32m     89\u001b[0m \u001b[38;5;28mself\u001b[39m\u001b[38;5;241m.\u001b[39mservice\u001b[38;5;241m.\u001b[39mstart()\n\u001b[1;32m     91\u001b[0m \u001b[38;5;28;01mtry\u001b[39;00m:\n\u001b[0;32m---> 92\u001b[0m     \u001b[38;5;28;43msuper\u001b[39;49m\u001b[43m(\u001b[49m\u001b[43m)\u001b[49m\u001b[38;5;241;43m.\u001b[39;49m\u001b[38;5;21;43m__init__\u001b[39;49m\u001b[43m(\u001b[49m\n\u001b[1;32m     93\u001b[0m \u001b[43m        \u001b[49m\u001b[43mcommand_executor\u001b[49m\u001b[38;5;241;43m=\u001b[39;49m\u001b[43mChromiumRemoteConnection\u001b[49m\u001b[43m(\u001b[49m\n\u001b[1;32m     94\u001b[0m \u001b[43m            \u001b[49m\u001b[43mremote_server_addr\u001b[49m\u001b[38;5;241;43m=\u001b[39;49m\u001b[38;5;28;43mself\u001b[39;49m\u001b[38;5;241;43m.\u001b[39;49m\u001b[43mservice\u001b[49m\u001b[38;5;241;43m.\u001b[39;49m\u001b[43mservice_url\u001b[49m\u001b[43m,\u001b[49m\n\u001b[1;32m     95\u001b[0m \u001b[43m            \u001b[49m\u001b[43mbrowser_name\u001b[49m\u001b[38;5;241;43m=\u001b[39;49m\u001b[43mbrowser_name\u001b[49m\u001b[43m,\u001b[49m\u001b[43m \u001b[49m\u001b[43mvendor_prefix\u001b[49m\u001b[38;5;241;43m=\u001b[39;49m\u001b[43mvendor_prefix\u001b[49m\u001b[43m,\u001b[49m\n\u001b[1;32m     96\u001b[0m \u001b[43m            \u001b[49m\u001b[43mkeep_alive\u001b[49m\u001b[38;5;241;43m=\u001b[39;49m\u001b[43mkeep_alive\u001b[49m\u001b[43m,\u001b[49m\u001b[43m \u001b[49m\u001b[43mignore_proxy\u001b[49m\u001b[38;5;241;43m=\u001b[39;49m\u001b[43m_ignore_proxy\u001b[49m\u001b[43m)\u001b[49m\u001b[43m,\u001b[49m\n\u001b[1;32m     97\u001b[0m \u001b[43m        \u001b[49m\u001b[43moptions\u001b[49m\u001b[38;5;241;43m=\u001b[39;49m\u001b[43moptions\u001b[49m\u001b[43m)\u001b[49m\n\u001b[1;32m     98\u001b[0m \u001b[38;5;28;01mexcept\u001b[39;00m \u001b[38;5;167;01mException\u001b[39;00m:\n\u001b[1;32m     99\u001b[0m     \u001b[38;5;28mself\u001b[39m\u001b[38;5;241m.\u001b[39mquit()\n",
      "File \u001b[0;32m/Library/Frameworks/Python.framework/Versions/3.9/lib/python3.9/site-packages/selenium/webdriver/remote/webdriver.py:272\u001b[0m, in \u001b[0;36mWebDriver.__init__\u001b[0;34m(self, command_executor, desired_capabilities, browser_profile, proxy, keep_alive, file_detector, options)\u001b[0m\n\u001b[1;32m    270\u001b[0m \u001b[38;5;28mself\u001b[39m\u001b[38;5;241m.\u001b[39m_authenticator_id \u001b[38;5;241m=\u001b[39m \u001b[38;5;28;01mNone\u001b[39;00m\n\u001b[1;32m    271\u001b[0m \u001b[38;5;28mself\u001b[39m\u001b[38;5;241m.\u001b[39mstart_client()\n\u001b[0;32m--> 272\u001b[0m \u001b[38;5;28;43mself\u001b[39;49m\u001b[38;5;241;43m.\u001b[39;49m\u001b[43mstart_session\u001b[49m\u001b[43m(\u001b[49m\u001b[43mcapabilities\u001b[49m\u001b[43m,\u001b[49m\u001b[43m \u001b[49m\u001b[43mbrowser_profile\u001b[49m\u001b[43m)\u001b[49m\n",
      "File \u001b[0;32m/Library/Frameworks/Python.framework/Versions/3.9/lib/python3.9/site-packages/selenium/webdriver/remote/webdriver.py:364\u001b[0m, in \u001b[0;36mWebDriver.start_session\u001b[0;34m(self, capabilities, browser_profile)\u001b[0m\n\u001b[1;32m    362\u001b[0m w3c_caps \u001b[38;5;241m=\u001b[39m _make_w3c_caps(capabilities)\n\u001b[1;32m    363\u001b[0m parameters \u001b[38;5;241m=\u001b[39m {\u001b[38;5;124m\"\u001b[39m\u001b[38;5;124mcapabilities\u001b[39m\u001b[38;5;124m\"\u001b[39m: w3c_caps}\n\u001b[0;32m--> 364\u001b[0m response \u001b[38;5;241m=\u001b[39m \u001b[38;5;28;43mself\u001b[39;49m\u001b[38;5;241;43m.\u001b[39;49m\u001b[43mexecute\u001b[49m\u001b[43m(\u001b[49m\u001b[43mCommand\u001b[49m\u001b[38;5;241;43m.\u001b[39;49m\u001b[43mNEW_SESSION\u001b[49m\u001b[43m,\u001b[49m\u001b[43m \u001b[49m\u001b[43mparameters\u001b[49m\u001b[43m)\u001b[49m\n\u001b[1;32m    365\u001b[0m \u001b[38;5;28;01mif\u001b[39;00m \u001b[38;5;124m'\u001b[39m\u001b[38;5;124msessionId\u001b[39m\u001b[38;5;124m'\u001b[39m \u001b[38;5;129;01mnot\u001b[39;00m \u001b[38;5;129;01min\u001b[39;00m response:\n\u001b[1;32m    366\u001b[0m     response \u001b[38;5;241m=\u001b[39m response[\u001b[38;5;124m'\u001b[39m\u001b[38;5;124mvalue\u001b[39m\u001b[38;5;124m'\u001b[39m]\n",
      "File \u001b[0;32m/Library/Frameworks/Python.framework/Versions/3.9/lib/python3.9/site-packages/selenium/webdriver/remote/webdriver.py:429\u001b[0m, in \u001b[0;36mWebDriver.execute\u001b[0;34m(self, driver_command, params)\u001b[0m\n\u001b[1;32m    427\u001b[0m response \u001b[38;5;241m=\u001b[39m \u001b[38;5;28mself\u001b[39m\u001b[38;5;241m.\u001b[39mcommand_executor\u001b[38;5;241m.\u001b[39mexecute(driver_command, params)\n\u001b[1;32m    428\u001b[0m \u001b[38;5;28;01mif\u001b[39;00m response:\n\u001b[0;32m--> 429\u001b[0m     \u001b[38;5;28;43mself\u001b[39;49m\u001b[38;5;241;43m.\u001b[39;49m\u001b[43merror_handler\u001b[49m\u001b[38;5;241;43m.\u001b[39;49m\u001b[43mcheck_response\u001b[49m\u001b[43m(\u001b[49m\u001b[43mresponse\u001b[49m\u001b[43m)\u001b[49m\n\u001b[1;32m    430\u001b[0m     response[\u001b[38;5;124m'\u001b[39m\u001b[38;5;124mvalue\u001b[39m\u001b[38;5;124m'\u001b[39m] \u001b[38;5;241m=\u001b[39m \u001b[38;5;28mself\u001b[39m\u001b[38;5;241m.\u001b[39m_unwrap_value(\n\u001b[1;32m    431\u001b[0m         response\u001b[38;5;241m.\u001b[39mget(\u001b[38;5;124m'\u001b[39m\u001b[38;5;124mvalue\u001b[39m\u001b[38;5;124m'\u001b[39m, \u001b[38;5;28;01mNone\u001b[39;00m))\n\u001b[1;32m    432\u001b[0m     \u001b[38;5;28;01mreturn\u001b[39;00m response\n",
      "File \u001b[0;32m/Library/Frameworks/Python.framework/Versions/3.9/lib/python3.9/site-packages/selenium/webdriver/remote/errorhandler.py:243\u001b[0m, in \u001b[0;36mErrorHandler.check_response\u001b[0;34m(self, response)\u001b[0m\n\u001b[1;32m    241\u001b[0m         alert_text \u001b[38;5;241m=\u001b[39m value[\u001b[38;5;124m'\u001b[39m\u001b[38;5;124malert\u001b[39m\u001b[38;5;124m'\u001b[39m]\u001b[38;5;241m.\u001b[39mget(\u001b[38;5;124m'\u001b[39m\u001b[38;5;124mtext\u001b[39m\u001b[38;5;124m'\u001b[39m)\n\u001b[1;32m    242\u001b[0m     \u001b[38;5;28;01mraise\u001b[39;00m exception_class(message, screen, stacktrace, alert_text)  \u001b[38;5;66;03m# type: ignore[call-arg]  # mypy is not smart enough here\u001b[39;00m\n\u001b[0;32m--> 243\u001b[0m \u001b[38;5;28;01mraise\u001b[39;00m exception_class(message, screen, stacktrace)\n",
      "\u001b[0;31mSessionNotCreatedException\u001b[0m: Message: session not created: This version of ChromeDriver only supports Chrome version 106\nCurrent browser version is 108.0.5359.124 with binary path /Applications/Google Chrome.app/Contents/MacOS/Google Chrome\nStacktrace:\n0   chromedriver                        0x00000001064dd598 chromedriver + 4404632\n1   chromedriver                        0x0000000106464fa3 chromedriver + 3911587\n2   chromedriver                        0x0000000106111e6a chromedriver + 425578\n3   chromedriver                        0x000000010613a916 chromedriver + 592150\n4   chromedriver                        0x0000000106136328 chromedriver + 574248\n5   chromedriver                        0x00000001061323be chromedriver + 558014\n6   chromedriver                        0x000000010616f8fa chromedriver + 809210\n7   chromedriver                        0x000000010616f2bf chromedriver + 807615\n8   chromedriver                        0x0000000106167bd3 chromedriver + 777171\n9   chromedriver                        0x000000010613cced chromedriver + 601325\n10  chromedriver                        0x000000010613de51 chromedriver + 605777\n11  chromedriver                        0x00000001064ad0ce chromedriver + 4206798\n12  chromedriver                        0x00000001064b1797 chromedriver + 4224919\n13  chromedriver                        0x00000001064b8a4f chromedriver + 4254287\n14  chromedriver                        0x00000001064b24da chromedriver + 4228314\n15  chromedriver                        0x000000010648b23f chromedriver + 4067903\n16  chromedriver                        0x00000001064cf6a8 chromedriver + 4347560\n17  chromedriver                        0x00000001064cf816 chromedriver + 4347926\n18  chromedriver                        0x00000001064e48fe chromedriver + 4434174\n19  libsystem_pthread.dylib             0x00007ff8010c14e1 _pthread_start + 125\n20  libsystem_pthread.dylib             0x00007ff8010bcf6b thread_start + 15\n"
     ]
    }
   ],
   "source": [
    "# browser = webdriver.Chrome()\n",
    "\n",
    "PATH = \"/Users/inseop/Desktop/python/python-miyoung/2일차_크롤링/chromedriver\"\n",
    "browser = webdriver.Chrome(PATH)"
   ]
  },
  {
   "cell_type": "code",
   "execution_count": 4,
   "id": "a45b0da6",
   "metadata": {},
   "outputs": [
    {
     "ename": "NameError",
     "evalue": "name 'browser' is not defined",
     "output_type": "error",
     "traceback": [
      "\u001b[0;31m---------------------------------------------------------------------------\u001b[0m",
      "\u001b[0;31mNameError\u001b[0m                                 Traceback (most recent call last)",
      "Input \u001b[0;32mIn [4]\u001b[0m, in \u001b[0;36m<cell line: 1>\u001b[0;34m()\u001b[0m\n\u001b[0;32m----> 1\u001b[0m \u001b[43mbrowser\u001b[49m\u001b[38;5;241m.\u001b[39mget(\u001b[38;5;124m\"\u001b[39m\u001b[38;5;124mhttp://www.naver.com\u001b[39m\u001b[38;5;124m\"\u001b[39m)\n",
      "\u001b[0;31mNameError\u001b[0m: name 'browser' is not defined"
     ]
    }
   ],
   "source": [
    "browser.get(\"http://www.naver.com\")"
   ]
  },
  {
   "cell_type": "code",
   "execution_count": 29,
   "id": "6b9aae64",
   "metadata": {},
   "outputs": [],
   "source": [
    "browser.get(\"https://search.naver.com/search.naver?where=nexearch&sm=top_hty&fbm=1&ie=utf8&query=%EB%82%A0%EC%94%A8\")"
   ]
  },
  {
   "cell_type": "code",
   "execution_count": 30,
   "id": "9f9c9a0d",
   "metadata": {},
   "outputs": [],
   "source": [
    "from selenium.webdriver.common.by import By"
   ]
  },
  {
   "cell_type": "code",
   "execution_count": 31,
   "id": "28675e33",
   "metadata": {},
   "outputs": [],
   "source": [
    "browser.find_element(By.ID, 'query').click()"
   ]
  },
  {
   "cell_type": "code",
   "execution_count": 33,
   "id": "ba064aff",
   "metadata": {},
   "outputs": [],
   "source": [
    "browser.find_element(By.CLASS_NAME, 'query').send_keys(\"날씨\")"
   ]
  },
  {
   "cell_type": "code",
   "execution_count": 34,
   "id": "7fb8d04a",
   "metadata": {},
   "outputs": [],
   "source": [
    "browser.find_element(By.XPATH, '//*[@id=\"search_btn\"]').click()"
   ]
  },
  {
   "cell_type": "code",
   "execution_count": 41,
   "id": "b5f11004",
   "metadata": {},
   "outputs": [
    {
     "data": {
      "text/plain": [
       "'16.4°'"
      ]
     },
     "execution_count": 41,
     "metadata": {},
     "output_type": "execute_result"
    }
   ],
   "source": [
    "data = browser.find_element(By.XPATH, '//*[@id=\"main_pack\"]/section[1]/div[1]/div[2]/div[1]/div[1]/div/div[2]/div/div[1]/div[1]/div[2]').text\n",
    "data[6:]"
   ]
  },
  {
   "cell_type": "code",
   "execution_count": 42,
   "id": "26d45fb8",
   "metadata": {},
   "outputs": [
    {
     "data": {
      "text/plain": [
       "'°'"
      ]
     },
     "execution_count": 42,
     "metadata": {},
     "output_type": "execute_result"
    }
   ],
   "source": [
    "browser.find_element(By.XPATH, '//*[@id=\"main_pack\"]/section[1]/div[1]/div[2]/div[1]/div[1]/div/div[2]/div/div[1]/div[1]/div[2]').find_element(By.CLASS_NAME, 'celsius').text"
   ]
  },
  {
   "cell_type": "code",
   "execution_count": 44,
   "id": "3865ed4a",
   "metadata": {},
   "outputs": [],
   "source": [
    "browser.find_element(By.ID, 'nx_query').click()"
   ]
  },
  {
   "cell_type": "code",
   "execution_count": 45,
   "id": "7cc2d3b0",
   "metadata": {},
   "outputs": [],
   "source": [
    "browser.find_element(By.ID, 'nx_query').clear()"
   ]
  },
  {
   "cell_type": "code",
   "execution_count": 46,
   "id": "111ebb12",
   "metadata": {},
   "outputs": [],
   "source": [
    "browser.find_element(By.ID, 'nx_query').send_keys(\"환율\")"
   ]
  },
  {
   "cell_type": "code",
   "execution_count": 49,
   "id": "ea4db6a8",
   "metadata": {},
   "outputs": [],
   "source": [
    "browser.find_element(By.CLASS_NAME, 'bt_search').click()"
   ]
  },
  {
   "cell_type": "code",
   "execution_count": 55,
   "id": "c1e00a54",
   "metadata": {},
   "outputs": [
    {
     "data": {
      "text/plain": [
       "'1,433.20'"
      ]
     },
     "execution_count": 55,
     "metadata": {},
     "output_type": "execute_result"
    }
   ],
   "source": [
    "browser.find_element(By.XPATH, '//*[@id=\"_cs_foreigninfo\"]/div/div[2]/div/div[1]/div[1]/div[1]/div[1]/h3/a/span[2]/strong').text"
   ]
  },
  {
   "cell_type": "markdown",
   "id": "ed4d688e",
   "metadata": {},
   "source": [
    "## 구글 뉴스 크롤링"
   ]
  },
  {
   "cell_type": "markdown",
   "id": "4cdb0e75",
   "metadata": {},
   "source": [
    "### 단건 뉴스 크롤링"
   ]
  },
  {
   "cell_type": "code",
   "execution_count": 58,
   "id": "641615ba",
   "metadata": {},
   "outputs": [],
   "source": [
    "browser.get(\"https://www.google.com/search?q=%EC%9E%90%EB%8F%99%ED%99%94&rlz=1C5CHFA_enKR1029KR1029&tbm=nws&source=lnt&tbs=qdr:w&sa=X&ved=2ahUKEwjkssCG4Pr6AhUMyGEKHX92C0sQpwV6BAgCEBs&biw=1239&bih=696&dpr=1\")"
   ]
  },
  {
   "cell_type": "code",
   "execution_count": 61,
   "id": "68dc3348",
   "metadata": {},
   "outputs": [
    {
     "data": {
      "text/plain": [
       "\"'5분이면 청약 끝'…한화생명, 청약자동화 솔루션 특허 취득\""
      ]
     },
     "execution_count": 61,
     "metadata": {},
     "output_type": "execute_result"
    }
   ],
   "source": [
    "browser.find_element(By.CLASS_NAME, 'mCBkyc').text"
   ]
  },
  {
   "cell_type": "code",
   "execution_count": 62,
   "id": "9281fac8",
   "metadata": {},
   "outputs": [
    {
     "data": {
      "text/plain": [
       "'(서울=연합인포맥스) 정지서 기자 = 한화생명이 업계 최초로 보험 신계약 과정을 로봇 기술로 자동화하며 법인대리점(GA) 시장에서의 영업 경쟁력 강화에 나섰다.'"
      ]
     },
     "execution_count": 62,
     "metadata": {},
     "output_type": "execute_result"
    }
   ],
   "source": [
    "browser.find_element(By.CLASS_NAME, 'GI74Re').text"
   ]
  },
  {
   "cell_type": "code",
   "execution_count": 63,
   "id": "98185d7e",
   "metadata": {},
   "outputs": [
    {
     "data": {
      "text/plain": [
       "<selenium.webdriver.remote.webelement.WebElement (session=\"7e7a79cb21cd08e1c4bdacbdc51b41ff\", element=\"f5b47a39-aa6d-42ac-8071-f461d90c52a9\")>"
      ]
     },
     "execution_count": 63,
     "metadata": {},
     "output_type": "execute_result"
    }
   ],
   "source": [
    "browser.find_element(By.CLASS_NAME, 'mCBkyc')"
   ]
  },
  {
   "cell_type": "code",
   "execution_count": 68,
   "id": "8255c8ef",
   "metadata": {},
   "outputs": [
    {
     "data": {
      "text/plain": [
       "'https://news.einfomax.co.kr/news/articleView.html?idxno=4239120'"
      ]
     },
     "execution_count": 68,
     "metadata": {},
     "output_type": "execute_result"
    }
   ],
   "source": [
    "browser.find_element(By.CLASS_NAME, 'WlydOe').get_attribute('href')"
   ]
  },
  {
   "cell_type": "markdown",
   "id": "e24661e5",
   "metadata": {},
   "source": [
    "### 1페이지 뉴스 크롤링 (10개)"
   ]
  },
  {
   "cell_type": "code",
   "execution_count": 124,
   "id": "b3a606d1",
   "metadata": {},
   "outputs": [
    {
     "data": {
      "text/plain": [
       "[\"'5분이면 청약 끝'…한화생명 청약자동화 솔루션 특허 취득\",\n",
       " \"한화생명 '청약자동화 솔루션' 특허 취득...5분이면 청약 가능\",\n",
       " '한화생명 청약자동화 솔루션 특허…GA설계사 업무간소화',\n",
       " '롯데홈쇼핑 이천 물류센터 오픈...최첨단 자동화 시스템 갖춰',\n",
       " \"'2022 국제 공구 및 스마트 용접 자동화전' 성료\",\n",
       " \"지멘스 차세대 IC DFT 자동화 솔루션 '테센트 멀티-다이' 공개\",\n",
       " '창원시 \"국내 최대 용접 및 절단자동화전 328억 수출상담\"',\n",
       " '자동화로 네트워크 전체 스위치 업그레이드를 효율화하는 방법',\n",
       " '롯데홈쇼핑 이천 물류센터 오픈…자동화 시스템 도입',\n",
       " '유아이패스 “자동화 시장 RPA에서 지능형 프로세스 자동화(IPA ...']"
      ]
     },
     "execution_count": 124,
     "metadata": {},
     "output_type": "execute_result"
    }
   ],
   "source": [
    "titles = browser.find_elements(By.CLASS_NAME, 'mCBkyc')\n",
    "\n",
    "title = []\n",
    "for i in titles:\n",
    "    temp_title = i.text\n",
    "    temp_title = temp_title.replace(\",\", \"\")\n",
    "    title.append(temp_title)\n",
    "\n",
    "title"
   ]
  },
  {
   "cell_type": "code",
   "execution_count": 126,
   "id": "0ebab235",
   "metadata": {},
   "outputs": [
    {
     "data": {
      "text/plain": [
       "['(서울=연합인포맥스) 정지서 기자 = 한화생명이 업계 최초로 보험 신계약 과정을 로봇 기술로 자동화하며 법인대리점(GA) 시장에서의 영업 경쟁력 강화에 나섰다.',\n",
       " \"한화생명은 보험설계 및 청약 업무 프로세스 자동화 기술인 '청약자동화 솔루션'에 대한 BM특허를 특허청으로부터 취득했다고 25일 밝혔다.\",\n",
       " \"한화생명[088350]은 보험설계 및 청약 업무 프로세스 자동화 기술인 '청약 자동화 솔루션'이 BM 특허를 취득했다고 25일 밝혔다. BM 특허는 정보시스템을 이용해 고안...\",\n",
       " '자율주행로봇 무인운반차 로봇팔 디팔렛타이저 등 최첨단 자동화 설비 도입. 롯데홈쇼핑(대표 이완신)이 난 21일(금) 경기도 이천에서 업계 최초로 자동화 시스템을...',\n",
       " \"최첨단 공구 및 스마트 용접 자동화기기를 한눈에 볼 수 있었던 '2022 국제 공구 및 스마트 용접 자동화전(TOOL TECH + SMART WELDING AUTOMATION FAIR)'이 나흘간 2...\",\n",
       " '... 가 선보인 테센트 멀티-다이 소프트웨어는 2.5D 및 3D IC 설계와 관련된 매우 복잡한 DFT 작업을 수행하기 위한 업계에서 가장 포괄적인 DFT 자동화 솔루션이다.',\n",
       " '용접 절단 최대 수요지인 창원에서 지난 18일부터 4일 간 개최된 34년 역사의 용접·절단 기술 전문 전시회인 창원국제용접 및 절단자동화전에는 1만여명의 관람객이 다녀...',\n",
       " '자동화는 반복적인 네트워킹 작업에서 큰 차이를 만들어낼 수 있다. 파이썬 스크립트와 오픈소스 툴을 사용해 엔터프라이즈 스위치 업그레이드를 효율화하기 위해 필자...',\n",
       " '롯데홈쇼핑은 경기도 이천에 자동화 시스템을 도입한 최첨단 물류센터를 오픈했다. 지난 21일 열린 오픈식에는 이완신 롯데홈쇼핑 대표 박찬복 롯데글로벌로지스 대표...',\n",
       " '웨이브2에는 엔터프라이즈 자동화뿐 아니라 퍼스널 자동화(Personal Automation) 요소도 포함된다. 그는 “지난 3년 동안 많은 기업들이 RPA를 적용하면서 시간과 비용을...']"
      ]
     },
     "execution_count": 126,
     "metadata": {},
     "output_type": "execute_result"
    }
   ],
   "source": [
    "contents = browser.find_elements(By.CLASS_NAME, 'GI74Re')\n",
    "\n",
    "content = []\n",
    "for i in contents:\n",
    "    temp_content = i.text\n",
    "    temp_content = temp_content.replace(\",\", \"\")\n",
    "    content.append(temp_content)\n",
    "    \n",
    "content"
   ]
  },
  {
   "cell_type": "code",
   "execution_count": 102,
   "id": "5b2b87a8",
   "metadata": {},
   "outputs": [
    {
     "name": "stdout",
     "output_type": "stream",
     "text": [
      "제목 : '5분이면 청약 끝'…한화생명, 청약자동화 솔루션 특허 취득\n",
      "내용 : (서울=연합인포맥스) 정지서 기자 = 한화생명이 업계 최초로 보험 신계약 과정을 로봇 기술로 자동화하며 법인대리점(GA) 시장에서의 영업 경쟁력 강화에 나섰다.\n"
     ]
    }
   ],
   "source": [
    "links = browser.find_elements(By.CLASS_NAME, 'WlydOe')\n",
    "\n",
    "link = []\n",
    "for i in links:\n",
    "    link.append(i.get_attribute('href'))\n",
    "    \n",
    "print(\"제목 : \" + title[0])\n",
    "print(\"내용 : \" + content[0])"
   ]
  },
  {
   "cell_type": "code",
   "execution_count": 106,
   "id": "bca680ac",
   "metadata": {},
   "outputs": [],
   "source": [
    "file = open(\"test.csv\", \"a\", encoding=\"UTF-8-sig\")\n",
    "file.write(\"{}, {}, {} \\n\".format(\"제목\", \"내용\", \"링크\"))\n",
    "file.write(\"{}, {}, {} \\n\".format(\"제목2\", \"내용2\", \"링크2\"))\n",
    "file.close()"
   ]
  },
  {
   "cell_type": "code",
   "execution_count": 127,
   "id": "f86862ba",
   "metadata": {},
   "outputs": [],
   "source": [
    "# [title], [content], [link]\n",
    "\n",
    "file = open(\"google_news.csv\", \"a\", encoding=\"UTF-8-sig\")\n",
    "\n",
    "for i in range(len(title)):\n",
    "    file.write(\"{}, {}, {} \\n\".format(title[i], content[i], link[i]))\n",
    "\n",
    "file.close()"
   ]
  },
  {
   "cell_type": "markdown",
   "id": "dee10ff8",
   "metadata": {},
   "source": [
    "## 네이버 환율 데이터 크롤링"
   ]
  },
  {
   "cell_type": "code",
   "execution_count": 130,
   "id": "a9bc6a41",
   "metadata": {},
   "outputs": [],
   "source": [
    "browser.get(\"https://search.naver.com/search.naver?ie=UTF-8&query=%EB%84%A4%EC%9D%B4%EB%B2%84%ED%99%98%EC%9C%A8&sm=chr_hty\")"
   ]
  },
  {
   "cell_type": "code",
   "execution_count": 144,
   "id": "fa1cf7c4",
   "metadata": {},
   "outputs": [
    {
     "name": "stdout",
     "output_type": "stream",
     "text": [
      "통화명\n",
      "미국 USD\n",
      "일본 JPY 100\n",
      "유럽연합 EUR\n",
      "중국 CNY\n",
      "영국 GBP\n",
      "호주 AUD\n",
      "캐나다 CAD\n",
      "뉴질랜드 NZD\n"
     ]
    }
   ],
   "source": [
    "table = browser.find_element(By.CLASS_NAME, 'rate_table_bx')\n",
    "rows = table.find_elements(By.TAG_NAME, 'tr')\n",
    "\n",
    "\n",
    "for row in rows:\n",
    "#     print(row.text)\n",
    "    country_name = row.find_element(By.TAG_NAME, 'th').text\n",
    "    \n",
    "    print(country_name)"
   ]
  },
  {
   "cell_type": "code",
   "execution_count": 145,
   "id": "f941a000",
   "metadata": {},
   "outputs": [
    {
     "ename": "IndexError",
     "evalue": "list index out of range",
     "output_type": "error",
     "traceback": [
      "\u001b[0;31m---------------------------------------------------------------------------\u001b[0m",
      "\u001b[0;31mIndexError\u001b[0m                                Traceback (most recent call last)",
      "Input \u001b[0;32mIn [145]\u001b[0m, in \u001b[0;36m<cell line: 4>\u001b[0;34m()\u001b[0m\n\u001b[1;32m      1\u001b[0m link \u001b[38;5;241m=\u001b[39m [\u001b[38;5;124m\"\u001b[39m\u001b[38;5;124ma\u001b[39m\u001b[38;5;124m\"\u001b[39m, \u001b[38;5;124m\"\u001b[39m\u001b[38;5;124mb\u001b[39m\u001b[38;5;124m\"\u001b[39m, \u001b[38;5;124m\"\u001b[39m\u001b[38;5;124mc\u001b[39m\u001b[38;5;124m\"\u001b[39m]\n\u001b[1;32m      2\u001b[0m links \u001b[38;5;241m=\u001b[39m []\n\u001b[0;32m----> 4\u001b[0m \u001b[43mlinks\u001b[49m\u001b[43m[\u001b[49m\u001b[38;5;241;43m0\u001b[39;49m\u001b[43m]\u001b[49m\n",
      "\u001b[0;31mIndexError\u001b[0m: list index out of range"
     ]
    }
   ],
   "source": [
    "link = [\"a\", \"b\", \"c\"]\n",
    "links = []\n",
    "\n",
    "links[0]"
   ]
  },
  {
   "cell_type": "code",
   "execution_count": null,
   "id": "31da8a51",
   "metadata": {},
   "outputs": [],
   "source": []
  }
 ],
 "metadata": {
  "kernelspec": {
   "display_name": "Python 3 (ipykernel)",
   "language": "python",
   "name": "python3"
  },
  "language_info": {
   "codemirror_mode": {
    "name": "ipython",
    "version": 3
   },
   "file_extension": ".py",
   "mimetype": "text/x-python",
   "name": "python",
   "nbconvert_exporter": "python",
   "pygments_lexer": "ipython3",
   "version": "3.9.5"
  }
 },
 "nbformat": 4,
 "nbformat_minor": 5
}
